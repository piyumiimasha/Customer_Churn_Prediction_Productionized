{
 "cells": [
  {
   "cell_type": "code",
   "execution_count": 9,
   "id": "031e362a",
   "metadata": {},
   "outputs": [],
   "source": [
    "!pip install -q -r requirements.txt"
   ]
  },
  {
   "cell_type": "code",
   "execution_count": 10,
   "id": "e97ff0f7",
   "metadata": {},
   "outputs": [],
   "source": [
    "import pandas as pd\n",
    "import numpy as np\n",
    "import seaborn as sns\n",
    "import matplotlib.pyplot as plt\n",
    "from sklearn.pipeline import Pipeline\n"
   ]
  },
  {
   "cell_type": "code",
   "execution_count": 11,
   "id": "8912258f",
   "metadata": {},
   "outputs": [],
   "source": [
    "\n",
    "from sklearn.impute import SimpleImputer \n",
    "from imblearn.over_sampling import SMOTE\n",
    "from sklearn.compose import ColumnTransformer\n",
    "from sklearn.model_selection import train_test_split\n",
    "from sklearn.preprocessing import StandardScaler, OneHotEncoder, OrdinalEncoder"
   ]
  },
  {
   "cell_type": "code",
   "execution_count": 12,
   "id": "f07e4620",
   "metadata": {},
   "outputs": [],
   "source": [
    "#%pip install catboost\n",
    "\n",
    "from sklearn.ensemble import RandomForestClassifier\n",
    "from sklearn.model_selection import  GridSearchCV, cross_val_score\n",
    "from sklearn.metrics import classification_report, confusion_matrix, roc_auc_score, roc_curve\n",
    "import xgboost as xgb\n",
    "import catboost as cb"
   ]
  },
  {
   "cell_type": "code",
   "execution_count": 13,
   "id": "17cee036",
   "metadata": {},
   "outputs": [],
   "source": [
    "df= pd.read_csv('data/hmQOVnDvRN.xls')"
   ]
  },
  {
   "cell_type": "code",
   "execution_count": 14,
   "id": "67e7b7ff",
   "metadata": {},
   "outputs": [
    {
     "data": {
      "text/html": [
       "<div>\n",
       "<style scoped>\n",
       "    .dataframe tbody tr th:only-of-type {\n",
       "        vertical-align: middle;\n",
       "    }\n",
       "\n",
       "    .dataframe tbody tr th {\n",
       "        vertical-align: top;\n",
       "    }\n",
       "\n",
       "    .dataframe thead th {\n",
       "        text-align: right;\n",
       "    }\n",
       "</style>\n",
       "<table border=\"1\" class=\"dataframe\">\n",
       "  <thead>\n",
       "    <tr style=\"text-align: right;\">\n",
       "      <th></th>\n",
       "      <th>customerID</th>\n",
       "      <th>gender</th>\n",
       "      <th>SeniorCitizen</th>\n",
       "      <th>Partner</th>\n",
       "      <th>Dependents</th>\n",
       "      <th>tenure</th>\n",
       "      <th>PhoneService</th>\n",
       "      <th>MultipleLines</th>\n",
       "      <th>InternetService</th>\n",
       "      <th>OnlineSecurity</th>\n",
       "      <th>...</th>\n",
       "      <th>DeviceProtection</th>\n",
       "      <th>TechSupport</th>\n",
       "      <th>StreamingTV</th>\n",
       "      <th>StreamingMovies</th>\n",
       "      <th>Contract</th>\n",
       "      <th>PaperlessBilling</th>\n",
       "      <th>PaymentMethod</th>\n",
       "      <th>MonthlyCharges</th>\n",
       "      <th>TotalCharges</th>\n",
       "      <th>Churn</th>\n",
       "    </tr>\n",
       "  </thead>\n",
       "  <tbody>\n",
       "    <tr>\n",
       "      <th>0</th>\n",
       "      <td>7590-VHVEG</td>\n",
       "      <td>Female</td>\n",
       "      <td>0</td>\n",
       "      <td>Yes</td>\n",
       "      <td>No</td>\n",
       "      <td>1</td>\n",
       "      <td>No</td>\n",
       "      <td>No phone service</td>\n",
       "      <td>DSL</td>\n",
       "      <td>No</td>\n",
       "      <td>...</td>\n",
       "      <td>No</td>\n",
       "      <td>No</td>\n",
       "      <td>No</td>\n",
       "      <td>No</td>\n",
       "      <td>Month-to-month</td>\n",
       "      <td>Yes</td>\n",
       "      <td>Electronic check</td>\n",
       "      <td>29.85</td>\n",
       "      <td>29.85</td>\n",
       "      <td>No</td>\n",
       "    </tr>\n",
       "    <tr>\n",
       "      <th>1</th>\n",
       "      <td>5575-GNVDE</td>\n",
       "      <td>Male</td>\n",
       "      <td>0</td>\n",
       "      <td>No</td>\n",
       "      <td>No</td>\n",
       "      <td>34</td>\n",
       "      <td>Yes</td>\n",
       "      <td>No</td>\n",
       "      <td>DSL</td>\n",
       "      <td>Yes</td>\n",
       "      <td>...</td>\n",
       "      <td>Yes</td>\n",
       "      <td>No</td>\n",
       "      <td>No</td>\n",
       "      <td>No</td>\n",
       "      <td>One year</td>\n",
       "      <td>No</td>\n",
       "      <td>Mailed check</td>\n",
       "      <td>56.95</td>\n",
       "      <td>1889.5</td>\n",
       "      <td>No</td>\n",
       "    </tr>\n",
       "    <tr>\n",
       "      <th>2</th>\n",
       "      <td>3668-QPYBK</td>\n",
       "      <td>Male</td>\n",
       "      <td>0</td>\n",
       "      <td>No</td>\n",
       "      <td>No</td>\n",
       "      <td>2</td>\n",
       "      <td>Yes</td>\n",
       "      <td>No</td>\n",
       "      <td>DSL</td>\n",
       "      <td>Yes</td>\n",
       "      <td>...</td>\n",
       "      <td>No</td>\n",
       "      <td>No</td>\n",
       "      <td>No</td>\n",
       "      <td>No</td>\n",
       "      <td>Month-to-month</td>\n",
       "      <td>Yes</td>\n",
       "      <td>Mailed check</td>\n",
       "      <td>53.85</td>\n",
       "      <td>108.15</td>\n",
       "      <td>Yes</td>\n",
       "    </tr>\n",
       "    <tr>\n",
       "      <th>3</th>\n",
       "      <td>7795-CFOCW</td>\n",
       "      <td>Male</td>\n",
       "      <td>0</td>\n",
       "      <td>No</td>\n",
       "      <td>No</td>\n",
       "      <td>45</td>\n",
       "      <td>No</td>\n",
       "      <td>No phone service</td>\n",
       "      <td>DSL</td>\n",
       "      <td>Yes</td>\n",
       "      <td>...</td>\n",
       "      <td>Yes</td>\n",
       "      <td>Yes</td>\n",
       "      <td>No</td>\n",
       "      <td>No</td>\n",
       "      <td>One year</td>\n",
       "      <td>No</td>\n",
       "      <td>Bank transfer (automatic)</td>\n",
       "      <td>42.30</td>\n",
       "      <td>1840.75</td>\n",
       "      <td>No</td>\n",
       "    </tr>\n",
       "    <tr>\n",
       "      <th>4</th>\n",
       "      <td>9237-HQITU</td>\n",
       "      <td>Female</td>\n",
       "      <td>0</td>\n",
       "      <td>No</td>\n",
       "      <td>No</td>\n",
       "      <td>2</td>\n",
       "      <td>Yes</td>\n",
       "      <td>No</td>\n",
       "      <td>Fiber optic</td>\n",
       "      <td>No</td>\n",
       "      <td>...</td>\n",
       "      <td>No</td>\n",
       "      <td>No</td>\n",
       "      <td>No</td>\n",
       "      <td>No</td>\n",
       "      <td>Month-to-month</td>\n",
       "      <td>Yes</td>\n",
       "      <td>Electronic check</td>\n",
       "      <td>70.70</td>\n",
       "      <td>151.65</td>\n",
       "      <td>Yes</td>\n",
       "    </tr>\n",
       "  </tbody>\n",
       "</table>\n",
       "<p>5 rows × 21 columns</p>\n",
       "</div>"
      ],
      "text/plain": [
       "   customerID  gender  SeniorCitizen Partner Dependents  tenure PhoneService  \\\n",
       "0  7590-VHVEG  Female              0     Yes         No       1           No   \n",
       "1  5575-GNVDE    Male              0      No         No      34          Yes   \n",
       "2  3668-QPYBK    Male              0      No         No       2          Yes   \n",
       "3  7795-CFOCW    Male              0      No         No      45           No   \n",
       "4  9237-HQITU  Female              0      No         No       2          Yes   \n",
       "\n",
       "      MultipleLines InternetService OnlineSecurity  ... DeviceProtection  \\\n",
       "0  No phone service             DSL             No  ...               No   \n",
       "1                No             DSL            Yes  ...              Yes   \n",
       "2                No             DSL            Yes  ...               No   \n",
       "3  No phone service             DSL            Yes  ...              Yes   \n",
       "4                No     Fiber optic             No  ...               No   \n",
       "\n",
       "  TechSupport StreamingTV StreamingMovies        Contract PaperlessBilling  \\\n",
       "0          No          No              No  Month-to-month              Yes   \n",
       "1          No          No              No        One year               No   \n",
       "2          No          No              No  Month-to-month              Yes   \n",
       "3         Yes          No              No        One year               No   \n",
       "4          No          No              No  Month-to-month              Yes   \n",
       "\n",
       "               PaymentMethod MonthlyCharges  TotalCharges Churn  \n",
       "0           Electronic check          29.85         29.85    No  \n",
       "1               Mailed check          56.95        1889.5    No  \n",
       "2               Mailed check          53.85        108.15   Yes  \n",
       "3  Bank transfer (automatic)          42.30       1840.75    No  \n",
       "4           Electronic check          70.70        151.65   Yes  \n",
       "\n",
       "[5 rows x 21 columns]"
      ]
     },
     "execution_count": 14,
     "metadata": {},
     "output_type": "execute_result"
    }
   ],
   "source": [
    "df.head()"
   ]
  },
  {
   "cell_type": "code",
   "execution_count": 15,
   "id": "2700bcce",
   "metadata": {},
   "outputs": [
    {
     "data": {
      "text/plain": [
       "customerID          0\n",
       "gender              0\n",
       "SeniorCitizen       0\n",
       "Partner             0\n",
       "Dependents          0\n",
       "tenure              0\n",
       "PhoneService        0\n",
       "MultipleLines       0\n",
       "InternetService     0\n",
       "OnlineSecurity      0\n",
       "OnlineBackup        0\n",
       "DeviceProtection    0\n",
       "TechSupport         0\n",
       "StreamingTV         0\n",
       "StreamingMovies     0\n",
       "Contract            0\n",
       "PaperlessBilling    0\n",
       "PaymentMethod       0\n",
       "MonthlyCharges      0\n",
       "TotalCharges        0\n",
       "Churn               0\n",
       "dtype: int64"
      ]
     },
     "execution_count": 15,
     "metadata": {},
     "output_type": "execute_result"
    }
   ],
   "source": [
    "df.isnull().sum()"
   ]
  },
  {
   "cell_type": "code",
   "execution_count": 16,
   "id": "b8ada77c",
   "metadata": {},
   "outputs": [
    {
     "data": {
      "text/plain": [
       "customerID           object\n",
       "gender               object\n",
       "SeniorCitizen         int64\n",
       "Partner              object\n",
       "Dependents           object\n",
       "tenure                int64\n",
       "PhoneService         object\n",
       "MultipleLines        object\n",
       "InternetService      object\n",
       "OnlineSecurity       object\n",
       "OnlineBackup         object\n",
       "DeviceProtection     object\n",
       "TechSupport          object\n",
       "StreamingTV          object\n",
       "StreamingMovies      object\n",
       "Contract             object\n",
       "PaperlessBilling     object\n",
       "PaymentMethod        object\n",
       "MonthlyCharges      float64\n",
       "TotalCharges         object\n",
       "Churn                object\n",
       "dtype: object"
      ]
     },
     "execution_count": 16,
     "metadata": {},
     "output_type": "execute_result"
    }
   ],
   "source": [
    "df.dtypes"
   ]
  },
  {
   "cell_type": "code",
   "execution_count": 17,
   "id": "bc7e41e5",
   "metadata": {},
   "outputs": [],
   "source": [
    "df['TotalCharges'] = df['TotalCharges'].replace(' ', np.nan)\n",
    "df['TotalCharges'] = df['TotalCharges'].astype(float)\n"
   ]
  },
  {
   "cell_type": "markdown",
   "id": "abb931ab",
   "metadata": {},
   "source": [
    "### Handling missing values"
   ]
  },
  {
   "cell_type": "code",
   "execution_count": 18,
   "id": "53d912e2",
   "metadata": {},
   "outputs": [
    {
     "data": {
      "text/plain": [
       "customerID           0\n",
       "gender               0\n",
       "SeniorCitizen        0\n",
       "Partner              0\n",
       "Dependents           0\n",
       "tenure               0\n",
       "PhoneService         0\n",
       "MultipleLines        0\n",
       "InternetService      0\n",
       "OnlineSecurity       0\n",
       "OnlineBackup         0\n",
       "DeviceProtection     0\n",
       "TechSupport          0\n",
       "StreamingTV          0\n",
       "StreamingMovies      0\n",
       "Contract             0\n",
       "PaperlessBilling     0\n",
       "PaymentMethod        0\n",
       "MonthlyCharges       0\n",
       "TotalCharges        11\n",
       "Churn                0\n",
       "dtype: int64"
      ]
     },
     "execution_count": 18,
     "metadata": {},
     "output_type": "execute_result"
    }
   ],
   "source": [
    "df.isnull().sum()"
   ]
  },
  {
   "cell_type": "code",
   "execution_count": 19,
   "id": "9745c541",
   "metadata": {},
   "outputs": [],
   "source": [
    "mean = df['TotalCharges'].mean()\n",
    "df['TotalCharges'] = df['TotalCharges'].fillna(mean)\n"
   ]
  },
  {
   "cell_type": "code",
   "execution_count": 20,
   "id": "c7e5fd45",
   "metadata": {},
   "outputs": [],
   "source": [
    "Demographics = ['gender', 'SeniorCitizen','Partner', 'Dependents']\n",
    "AccountInfo = ['tenure', 'Contract', 'PaperlessBilling', 'PaymentMethod']\n",
    "Sevices = ['PhoneService', 'MultipleLines', 'InternetService', 'OnlineSecurity',\n",
    "            'OnlineBackup', 'DeviceProtection', 'TechSupport', 'StreamingTV', 'StreamingMovies']\n",
    "Financials = ['MonthlyCharges', 'TotalCharges']"
   ]
  },
  {
   "cell_type": "code",
   "execution_count": 21,
   "id": "2d1b9293",
   "metadata": {},
   "outputs": [],
   "source": [
    "def conv(value):\n",
    "    if value == 1:\n",
    "        return \"yes\"\n",
    "    else:\n",
    "        return \"No\"\n",
    "    \n",
    "df[\"SeniorCitizen\"]=df[\"SeniorCitizen\"].apply(conv)"
   ]
  },
  {
   "cell_type": "markdown",
   "id": "5afb65b2",
   "metadata": {},
   "source": [
    "### Bivariate Analysis"
   ]
  },
  {
   "cell_type": "markdown",
   "id": "154c1f52",
   "metadata": {},
   "source": [
    "#### 1.Plots\n"
   ]
  },
  {
   "cell_type": "markdown",
   "id": "e6e433b8",
   "metadata": {},
   "source": [
    "#### 1.1 Churn vs Demographic features"
   ]
  },
  {
   "cell_type": "code",
   "execution_count": 22,
   "id": "25eb6f8f",
   "metadata": {},
   "outputs": [
    {
     "data": {
      "image/png": "[encoded data removed]",
      "text/plain": [
       "<Figure size 2000x500 with 4 Axes>"
      ]
     },
     "metadata": {},
     "output_type": "display_data"
    }
   ],
   "source": [
    "fig, axes = plt.subplots(1, len(Demographics), figsize=(20, 5))\n",
    "for i, col in enumerate(Demographics):\n",
    "    sns.countplot(x=col, hue='Churn', data=df, ax=axes[i])\n",
    "    axes[i].set_title(f'Churn vs {col}')\n",
    "plt.tight_layout()\n",
    "plt.show()"
   ]
  },
  {
   "cell_type": "markdown",
   "id": "1409f51d",
   "metadata": {},
   "source": [
    "#### 1.2 Churn vs AccountInfo features"
   ]
  },
  {
   "cell_type": "code",
   "execution_count": 23,
   "id": "f971d8bb",
   "metadata": {},
   "outputs": [
    {
     "data": {
      "image/png": "[encoded data removed]",
      "text/plain": [
       "<Figure size 2000x500 with 4 Axes>"
      ]
     },
     "metadata": {},
     "output_type": "display_data"
    }
   ],
   "source": [
    "fig, axes = plt.subplots(1, len(AccountInfo), figsize=(20, 5))\n",
    "for i, col in enumerate(AccountInfo):\n",
    "    sns.countplot(x=col, hue='Churn', data=df, ax=axes[i])\n",
    "    axes[i].set_title(f'Churn vs {col}')\n",
    "plt.tight_layout()\n",
    "plt.show()"
   ]
  },
  {
   "cell_type": "markdown",
   "id": "ec5c171c",
   "metadata": {},
   "source": [
    "#### 1.3 Churn vs Service features"
   ]
  },
  {
   "cell_type": "code",
   "execution_count": 24,
   "id": "5588ebc2",
   "metadata": {},
   "outputs": [
    {
     "data": {
      "image/png": "[encoded data removed]",
      "text/plain": [
       "<Figure size 2400x1500 with 9 Axes>"
      ]
     },
     "metadata": {},
     "output_type": "display_data"
    }
   ],
   "source": [
    "import math\n",
    "\n",
    "cols_per_row = 4\n",
    "num_charts = len(Sevices)\n",
    "num_rows = math.ceil(num_charts / cols_per_row)\n",
    "\n",
    "fig, axes = plt.subplots(num_rows, cols_per_row, figsize=(6 * cols_per_row, 5 * num_rows))\n",
    "\n",
    "for i, col in enumerate(Sevices):\n",
    "    row = i // cols_per_row\n",
    "    col_idx = i % cols_per_row\n",
    "    sns.countplot(x=col, hue='Churn', data=df, ax=axes[row, col_idx])\n",
    "    axes[row, col_idx].set_title(f'Churn vs {col}')\n",
    "\n",
    "# Hide unused axes if any\n",
    "for j in range(num_charts, num_rows * cols_per_row):\n",
    "    fig.delaxes(axes.flatten()[j])\n",
    "\n",
    "plt.tight_layout()\n",
    "plt.show()"
   ]
  },
  {
   "cell_type": "code",
   "execution_count": 25,
   "id": "eb03e12e",
   "metadata": {},
   "outputs": [],
   "source": [
    "df['Churn_numeric'] = df['Churn'].map({'No': 0, 'Yes': 1})"
   ]
  },
  {
   "cell_type": "code",
   "execution_count": 26,
   "id": "87935a50",
   "metadata": {},
   "outputs": [
    {
     "data": {
      "text/html": [
       "<div>\n",
       "<style scoped>\n",
       "    .dataframe tbody tr th:only-of-type {\n",
       "        vertical-align: middle;\n",
       "    }\n",
       "\n",
       "    .dataframe tbody tr th {\n",
       "        vertical-align: top;\n",
       "    }\n",
       "\n",
       "    .dataframe thead th {\n",
       "        text-align: right;\n",
       "    }\n",
       "</style>\n",
       "<table border=\"1\" class=\"dataframe\">\n",
       "  <thead>\n",
       "    <tr style=\"text-align: right;\">\n",
       "      <th></th>\n",
       "      <th>customerID</th>\n",
       "      <th>gender</th>\n",
       "      <th>SeniorCitizen</th>\n",
       "      <th>Partner</th>\n",
       "      <th>Dependents</th>\n",
       "      <th>tenure</th>\n",
       "      <th>PhoneService</th>\n",
       "      <th>MultipleLines</th>\n",
       "      <th>InternetService</th>\n",
       "      <th>OnlineSecurity</th>\n",
       "      <th>...</th>\n",
       "      <th>TechSupport</th>\n",
       "      <th>StreamingTV</th>\n",
       "      <th>StreamingMovies</th>\n",
       "      <th>Contract</th>\n",
       "      <th>PaperlessBilling</th>\n",
       "      <th>PaymentMethod</th>\n",
       "      <th>MonthlyCharges</th>\n",
       "      <th>TotalCharges</th>\n",
       "      <th>Churn</th>\n",
       "      <th>Churn_numeric</th>\n",
       "    </tr>\n",
       "  </thead>\n",
       "  <tbody>\n",
       "    <tr>\n",
       "      <th>0</th>\n",
       "      <td>7590-VHVEG</td>\n",
       "      <td>Female</td>\n",
       "      <td>No</td>\n",
       "      <td>Yes</td>\n",
       "      <td>No</td>\n",
       "      <td>1</td>\n",
       "      <td>No</td>\n",
       "      <td>No phone service</td>\n",
       "      <td>DSL</td>\n",
       "      <td>No</td>\n",
       "      <td>...</td>\n",
       "      <td>No</td>\n",
       "      <td>No</td>\n",
       "      <td>No</td>\n",
       "      <td>Month-to-month</td>\n",
       "      <td>Yes</td>\n",
       "      <td>Electronic check</td>\n",
       "      <td>29.85</td>\n",
       "      <td>29.85</td>\n",
       "      <td>No</td>\n",
       "      <td>0</td>\n",
       "    </tr>\n",
       "    <tr>\n",
       "      <th>1</th>\n",
       "      <td>5575-GNVDE</td>\n",
       "      <td>Male</td>\n",
       "      <td>No</td>\n",
       "      <td>No</td>\n",
       "      <td>No</td>\n",
       "      <td>34</td>\n",
       "      <td>Yes</td>\n",
       "      <td>No</td>\n",
       "      <td>DSL</td>\n",
       "      <td>Yes</td>\n",
       "      <td>...</td>\n",
       "      <td>No</td>\n",
       "      <td>No</td>\n",
       "      <td>No</td>\n",
       "      <td>One year</td>\n",
       "      <td>No</td>\n",
       "      <td>Mailed check</td>\n",
       "      <td>56.95</td>\n",
       "      <td>1889.50</td>\n",
       "      <td>No</td>\n",
       "      <td>0</td>\n",
       "    </tr>\n",
       "    <tr>\n",
       "      <th>2</th>\n",
       "      <td>3668-QPYBK</td>\n",
       "      <td>Male</td>\n",
       "      <td>No</td>\n",
       "      <td>No</td>\n",
       "      <td>No</td>\n",
       "      <td>2</td>\n",
       "      <td>Yes</td>\n",
       "      <td>No</td>\n",
       "      <td>DSL</td>\n",
       "      <td>Yes</td>\n",
       "      <td>...</td>\n",
       "      <td>No</td>\n",
       "      <td>No</td>\n",
       "      <td>No</td>\n",
       "      <td>Month-to-month</td>\n",
       "      <td>Yes</td>\n",
       "      <td>Mailed check</td>\n",
       "      <td>53.85</td>\n",
       "      <td>108.15</td>\n",
       "      <td>Yes</td>\n",
       "      <td>1</td>\n",
       "    </tr>\n",
       "    <tr>\n",
       "      <th>3</th>\n",
       "      <td>7795-CFOCW</td>\n",
       "      <td>Male</td>\n",
       "      <td>No</td>\n",
       "      <td>No</td>\n",
       "      <td>No</td>\n",
       "      <td>45</td>\n",
       "      <td>No</td>\n",
       "      <td>No phone service</td>\n",
       "      <td>DSL</td>\n",
       "      <td>Yes</td>\n",
       "      <td>...</td>\n",
       "      <td>Yes</td>\n",
       "      <td>No</td>\n",
       "      <td>No</td>\n",
       "      <td>One year</td>\n",
       "      <td>No</td>\n",
       "      <td>Bank transfer (automatic)</td>\n",
       "      <td>42.30</td>\n",
       "      <td>1840.75</td>\n",
       "      <td>No</td>\n",
       "      <td>0</td>\n",
       "    </tr>\n",
       "    <tr>\n",
       "      <th>4</th>\n",
       "      <td>9237-HQITU</td>\n",
       "      <td>Female</td>\n",
       "      <td>No</td>\n",
       "      <td>No</td>\n",
       "      <td>No</td>\n",
       "      <td>2</td>\n",
       "      <td>Yes</td>\n",
       "      <td>No</td>\n",
       "      <td>Fiber optic</td>\n",
       "      <td>No</td>\n",
       "      <td>...</td>\n",
       "      <td>No</td>\n",
       "      <td>No</td>\n",
       "      <td>No</td>\n",
       "      <td>Month-to-month</td>\n",
       "      <td>Yes</td>\n",
       "      <td>Electronic check</td>\n",
       "      <td>70.70</td>\n",
       "      <td>151.65</td>\n",
       "      <td>Yes</td>\n",
       "      <td>1</td>\n",
       "    </tr>\n",
       "  </tbody>\n",
       "</table>\n",
       "<p>5 rows × 22 columns</p>\n",
       "</div>"
      ],
      "text/plain": [
       "   customerID  gender SeniorCitizen Partner Dependents  tenure PhoneService  \\\n",
       "0  7590-VHVEG  Female            No     Yes         No       1           No   \n",
       "1  5575-GNVDE    Male            No      No         No      34          Yes   \n",
       "2  3668-QPYBK    Male            No      No         No       2          Yes   \n",
       "3  7795-CFOCW    Male            No      No         No      45           No   \n",
       "4  9237-HQITU  Female            No      No         No       2          Yes   \n",
       "\n",
       "      MultipleLines InternetService OnlineSecurity  ... TechSupport  \\\n",
       "0  No phone service             DSL             No  ...          No   \n",
       "1                No             DSL            Yes  ...          No   \n",
       "2                No             DSL            Yes  ...          No   \n",
       "3  No phone service             DSL            Yes  ...         Yes   \n",
       "4                No     Fiber optic             No  ...          No   \n",
       "\n",
       "  StreamingTV StreamingMovies        Contract PaperlessBilling  \\\n",
       "0          No              No  Month-to-month              Yes   \n",
       "1          No              No        One year               No   \n",
       "2          No              No  Month-to-month              Yes   \n",
       "3          No              No        One year               No   \n",
       "4          No              No  Month-to-month              Yes   \n",
       "\n",
       "               PaymentMethod MonthlyCharges TotalCharges  Churn  Churn_numeric  \n",
       "0           Electronic check          29.85        29.85     No              0  \n",
       "1               Mailed check          56.95      1889.50     No              0  \n",
       "2               Mailed check          53.85       108.15    Yes              1  \n",
       "3  Bank transfer (automatic)          42.30      1840.75     No              0  \n",
       "4           Electronic check          70.70       151.65    Yes              1  \n",
       "\n",
       "[5 rows x 22 columns]"
      ]
     },
     "execution_count": 26,
     "metadata": {},
     "output_type": "execute_result"
    }
   ],
   "source": [
    "df.head()"
   ]
  },
  {
   "cell_type": "markdown",
   "id": "3ee22e6e",
   "metadata": {},
   "source": [
    "### 2. correlation matrix for numerical features"
   ]
  },
  {
   "cell_type": "code",
   "execution_count": 27,
   "id": "f050d27b",
   "metadata": {},
   "outputs": [
    {
     "data": {
      "image/png": "[encoded data removed]",
      "text/plain": [
       "<Figure size 800x600 with 2 Axes>"
      ]
     },
     "metadata": {},
     "output_type": "display_data"
    }
   ],
   "source": [
    "numerical_features = ['tenure', 'MonthlyCharges', 'TotalCharges' ]\n",
    "corr = df[numerical_features + ['Churn_numeric']].corr(method='pearson')\n",
    "plt.figure(figsize=(8, 6))\n",
    "sns.heatmap(corr, annot=True, cmap='coolwarm')\n",
    "plt.title('Correlation Matrix')\n",
    "plt.show()"
   ]
  },
  {
   "cell_type": "markdown",
   "id": "f8e6c2c7",
   "metadata": {},
   "source": [
    "- features don't show strong linear relationships with churn."
   ]
  },
  {
   "cell_type": "code",
   "execution_count": 28,
   "id": "bcdcb0db",
   "metadata": {},
   "outputs": [
    {
     "name": "stdout",
     "output_type": "stream",
     "text": [
      "Spearman correlation - MonthlyCharges: 0.185\n",
      "Spearman correlation - TotalCharges: -0.232\n"
     ]
    }
   ],
   "source": [
    "from scipy.stats import spearmanr\n",
    "\n",
    "# Spearman correlation\n",
    "spearman_monthly, p_monthly = spearmanr(df['MonthlyCharges'], df['Churn_numeric'])\n",
    "spearman_total, p_total = spearmanr(df['TotalCharges'], df['Churn_numeric'])\n",
    "\n",
    "print(f\"Spearman correlation - MonthlyCharges: {spearman_monthly:.3f}\")\n",
    "print(f\"Spearman correlation - TotalCharges: {spearman_total:.3f}\")"
   ]
  },
  {
   "cell_type": "markdown",
   "id": "c083b5fe",
   "metadata": {},
   "source": [
    "- features don't show strong non-linear relationships with churn."
   ]
  },
  {
   "cell_type": "markdown",
   "id": "85724992",
   "metadata": {},
   "source": [
    "### 3. chi-sqare test for categorical features"
   ]
  },
  {
   "cell_type": "code",
   "execution_count": 29,
   "id": "8e491ca0",
   "metadata": {},
   "outputs": [
    {
     "name": "stdout",
     "output_type": "stream",
     "text": [
      "             Feature  Chi2 Statistic        P-Value\n",
      "0             gender        0.484083   4.865787e-01\n",
      "1      SeniorCitizen      159.426300   1.510067e-36\n",
      "2            Partner      158.733382   2.139911e-36\n",
      "3         Dependents      189.129249   4.924922e-43\n",
      "4           Contract     1184.596572  5.863038e-258\n",
      "5   PaperlessBilling      258.277649   4.073355e-58\n",
      "6      PaymentMethod      648.142327  3.682355e-140\n",
      "7       PhoneService        0.915033   3.387825e-01\n",
      "8      MultipleLines       11.330441   3.464383e-03\n",
      "9    InternetService      732.309590  9.571788e-160\n",
      "10    OnlineSecurity      849.998968  2.661150e-185\n",
      "11      OnlineBackup      601.812790  2.079759e-131\n",
      "12  DeviceProtection      558.419369  5.505219e-122\n",
      "13       TechSupport      828.197068  1.443084e-180\n",
      "14       StreamingTV      374.203943   5.528994e-82\n",
      "15   StreamingMovies      375.661479   2.667757e-82\n"
     ]
    }
   ],
   "source": [
    "from scipy.stats import chi2_contingency\n",
    "\n",
    "categorical_features = Demographics + AccountInfo + Sevices\n",
    "categorical_features.remove('tenure')\n",
    "chi2_results = {}\n",
    "\n",
    "for col in categorical_features:\n",
    "    contingency_table = pd.crosstab(df[col], df['Churn'])\n",
    "    chi2, p, dof, expected = chi2_contingency(contingency_table)\n",
    "    chi2_results[col] = {'chi2': chi2, 'p-value': p}\n",
    "\n",
    "chi2_df = pd.DataFrame.from_dict(chi2_results, orient='index')\n",
    "chi2_df = chi2_df.reset_index().rename(columns={'index': 'Feature', 'chi2': 'Chi2 Statistic', 'p-value': 'P-Value'})\n",
    "\n",
    "# Display the table\n",
    "print(chi2_df)"
   ]
  },
  {
   "cell_type": "markdown",
   "id": "21093986",
   "metadata": {},
   "source": [
    "### Feature Engineering"
   ]
  },
  {
   "cell_type": "code",
   "execution_count": 30,
   "id": "c95edd16",
   "metadata": {},
   "outputs": [],
   "source": [
    "from scipy.stats import chi2_contingency\n",
    "\n",
    "def quick_feature_test(df, feature, target):\n",
    "\tcontingency_table = pd.crosstab(df[feature], df[target])\n",
    "\tchi2, p, dof, expected = chi2_contingency(contingency_table)\n",
    "\treturn chi2, p\n"
   ]
  },
  {
   "cell_type": "code",
   "execution_count": 31,
   "id": "42ba31c5",
   "metadata": {},
   "outputs": [
    {
     "name": "stdout",
     "output_type": "stream",
     "text": [
      "Chi² = 338.97, p = 0.0000\n"
     ]
    }
   ],
   "source": [
    "support_services = ['OnlineBackup', 'DeviceProtection', 'OnlineSecurity', 'TechSupport']\n",
    "df['Services_Score'] = 0\n",
    "for service in support_services:\n",
    "\tdf['Services_Score'] += (df[service] == 'Yes').astype(int)\n",
    "chi2_score, p_value = quick_feature_test(df, 'Services_Score', 'Churn')\n",
    "print(f\"Chi² = {chi2_score:.2f}, p = {p_value:.4f}\")"
   ]
  },
  {
   "cell_type": "code",
   "execution_count": 32,
   "id": "44c29798",
   "metadata": {},
   "outputs": [
    {
     "data": {
      "text/plain": [
       "array([1, 2, 3, 0, 4])"
      ]
     },
     "execution_count": 32,
     "metadata": {},
     "output_type": "execute_result"
    }
   ],
   "source": [
    "df['Services_Score'].unique()"
   ]
  },
  {
   "cell_type": "code",
   "execution_count": 33,
   "id": "132b9849",
   "metadata": {},
   "outputs": [
    {
     "name": "stdout",
     "output_type": "stream",
     "text": [
      "Chi² = 1307.20, p = 0.0000\n"
     ]
    }
   ],
   "source": [
    "# Convert SeniorCitizen to integer for calculation\n",
    "senior_citizen_numeric = df['SeniorCitizen'].map({'yes': 1, 'No': 0})\n",
    "\n",
    "df['Vulnerability_Score'] = (\n",
    "    senior_citizen_numeric * 2 +\n",
    "    (df['Partner'] == 'No').astype(int) +\n",
    "    (df['Dependents'] == 'No').astype(int) +\n",
    "    (df['Contract'] == 'Month-to-month').astype(int) * 2 +\n",
    "    np.where(df['tenure'] < 12, 2, 0)\n",
    ")\n",
    "chi2_score, p_value = quick_feature_test(df, 'Vulnerability_Score', 'Churn')\n",
    "print(f\"Chi² = {chi2_score:.2f}, p = {p_value:.4f}\")"
   ]
  },
  {
   "cell_type": "code",
   "execution_count": 34,
   "id": "c78c74bc",
   "metadata": {},
   "outputs": [
    {
     "data": {
      "text/plain": [
       "array([5, 2, 6, 3, 1, 4, 0, 8, 7])"
      ]
     },
     "execution_count": 34,
     "metadata": {},
     "output_type": "execute_result"
    }
   ],
   "source": [
    "df['Vulnerability_Score'].unique()"
   ]
  },
  {
   "cell_type": "markdown",
   "id": "beeacb6e",
   "metadata": {},
   "source": [
    "Note :\n",
    "- 0-1: Low vulnerability (married, long contract, established)\n",
    "- 2-4: Moderate vulnerability\n",
    "- 5-8: High vulnerability (senior, single, new, no commitment)"
   ]
  },
  {
   "cell_type": "code",
   "execution_count": 35,
   "id": "031229c7",
   "metadata": {},
   "outputs": [],
   "source": [
    "df['avg_monthly_spend'] = df['TotalCharges'] / (df['tenure'] + 1)  # +1 to avoid division by zero"
   ]
  },
  {
   "cell_type": "code",
   "execution_count": 36,
   "id": "a4f2ebfd",
   "metadata": {},
   "outputs": [
    {
     "name": "stdout",
     "output_type": "stream",
     "text": [
      "Chi² = 38.30, p = 0.0000\n"
     ]
    }
   ],
   "source": [
    "df['spend_category'] = pd.cut(df['avg_monthly_spend'], \n",
    "                             bins=[0, 50, 100, 200, float('inf')], \n",
    "                             labels=['Low', 'Medium', 'High', 'Extreme'])\n",
    "\n",
    "# Then test:\n",
    "chi2_score, p_value = quick_feature_test(df, 'spend_category', 'Churn')\n",
    "print(f\"Chi² = {chi2_score:.2f}, p = {p_value:.4f}\")"
   ]
  },
  {
   "cell_type": "code",
   "execution_count": 37,
   "id": "07c833aa",
   "metadata": {},
   "outputs": [
    {
     "data": {
      "text/html": [
       "<div>\n",
       "<style scoped>\n",
       "    .dataframe tbody tr th:only-of-type {\n",
       "        vertical-align: middle;\n",
       "    }\n",
       "\n",
       "    .dataframe tbody tr th {\n",
       "        vertical-align: top;\n",
       "    }\n",
       "\n",
       "    .dataframe thead th {\n",
       "        text-align: right;\n",
       "    }\n",
       "</style>\n",
       "<table border=\"1\" class=\"dataframe\">\n",
       "  <thead>\n",
       "    <tr style=\"text-align: right;\">\n",
       "      <th></th>\n",
       "      <th>customerID</th>\n",
       "      <th>gender</th>\n",
       "      <th>SeniorCitizen</th>\n",
       "      <th>Partner</th>\n",
       "      <th>Dependents</th>\n",
       "      <th>tenure</th>\n",
       "      <th>PhoneService</th>\n",
       "      <th>MultipleLines</th>\n",
       "      <th>InternetService</th>\n",
       "      <th>OnlineSecurity</th>\n",
       "      <th>...</th>\n",
       "      <th>PaperlessBilling</th>\n",
       "      <th>PaymentMethod</th>\n",
       "      <th>MonthlyCharges</th>\n",
       "      <th>TotalCharges</th>\n",
       "      <th>Churn</th>\n",
       "      <th>Churn_numeric</th>\n",
       "      <th>Services_Score</th>\n",
       "      <th>Vulnerability_Score</th>\n",
       "      <th>avg_monthly_spend</th>\n",
       "      <th>spend_category</th>\n",
       "    </tr>\n",
       "  </thead>\n",
       "  <tbody>\n",
       "    <tr>\n",
       "      <th>0</th>\n",
       "      <td>7590-VHVEG</td>\n",
       "      <td>Female</td>\n",
       "      <td>No</td>\n",
       "      <td>Yes</td>\n",
       "      <td>No</td>\n",
       "      <td>1</td>\n",
       "      <td>No</td>\n",
       "      <td>No phone service</td>\n",
       "      <td>DSL</td>\n",
       "      <td>No</td>\n",
       "      <td>...</td>\n",
       "      <td>Yes</td>\n",
       "      <td>Electronic check</td>\n",
       "      <td>29.85</td>\n",
       "      <td>29.85</td>\n",
       "      <td>No</td>\n",
       "      <td>0</td>\n",
       "      <td>1</td>\n",
       "      <td>5</td>\n",
       "      <td>14.925000</td>\n",
       "      <td>Low</td>\n",
       "    </tr>\n",
       "    <tr>\n",
       "      <th>1</th>\n",
       "      <td>5575-GNVDE</td>\n",
       "      <td>Male</td>\n",
       "      <td>No</td>\n",
       "      <td>No</td>\n",
       "      <td>No</td>\n",
       "      <td>34</td>\n",
       "      <td>Yes</td>\n",
       "      <td>No</td>\n",
       "      <td>DSL</td>\n",
       "      <td>Yes</td>\n",
       "      <td>...</td>\n",
       "      <td>No</td>\n",
       "      <td>Mailed check</td>\n",
       "      <td>56.95</td>\n",
       "      <td>1889.50</td>\n",
       "      <td>No</td>\n",
       "      <td>0</td>\n",
       "      <td>2</td>\n",
       "      <td>2</td>\n",
       "      <td>53.985714</td>\n",
       "      <td>Medium</td>\n",
       "    </tr>\n",
       "    <tr>\n",
       "      <th>2</th>\n",
       "      <td>3668-QPYBK</td>\n",
       "      <td>Male</td>\n",
       "      <td>No</td>\n",
       "      <td>No</td>\n",
       "      <td>No</td>\n",
       "      <td>2</td>\n",
       "      <td>Yes</td>\n",
       "      <td>No</td>\n",
       "      <td>DSL</td>\n",
       "      <td>Yes</td>\n",
       "      <td>...</td>\n",
       "      <td>Yes</td>\n",
       "      <td>Mailed check</td>\n",
       "      <td>53.85</td>\n",
       "      <td>108.15</td>\n",
       "      <td>Yes</td>\n",
       "      <td>1</td>\n",
       "      <td>2</td>\n",
       "      <td>6</td>\n",
       "      <td>36.050000</td>\n",
       "      <td>Low</td>\n",
       "    </tr>\n",
       "    <tr>\n",
       "      <th>3</th>\n",
       "      <td>7795-CFOCW</td>\n",
       "      <td>Male</td>\n",
       "      <td>No</td>\n",
       "      <td>No</td>\n",
       "      <td>No</td>\n",
       "      <td>45</td>\n",
       "      <td>No</td>\n",
       "      <td>No phone service</td>\n",
       "      <td>DSL</td>\n",
       "      <td>Yes</td>\n",
       "      <td>...</td>\n",
       "      <td>No</td>\n",
       "      <td>Bank transfer (automatic)</td>\n",
       "      <td>42.30</td>\n",
       "      <td>1840.75</td>\n",
       "      <td>No</td>\n",
       "      <td>0</td>\n",
       "      <td>3</td>\n",
       "      <td>2</td>\n",
       "      <td>40.016304</td>\n",
       "      <td>Low</td>\n",
       "    </tr>\n",
       "    <tr>\n",
       "      <th>4</th>\n",
       "      <td>9237-HQITU</td>\n",
       "      <td>Female</td>\n",
       "      <td>No</td>\n",
       "      <td>No</td>\n",
       "      <td>No</td>\n",
       "      <td>2</td>\n",
       "      <td>Yes</td>\n",
       "      <td>No</td>\n",
       "      <td>Fiber optic</td>\n",
       "      <td>No</td>\n",
       "      <td>...</td>\n",
       "      <td>Yes</td>\n",
       "      <td>Electronic check</td>\n",
       "      <td>70.70</td>\n",
       "      <td>151.65</td>\n",
       "      <td>Yes</td>\n",
       "      <td>1</td>\n",
       "      <td>0</td>\n",
       "      <td>6</td>\n",
       "      <td>50.550000</td>\n",
       "      <td>Medium</td>\n",
       "    </tr>\n",
       "  </tbody>\n",
       "</table>\n",
       "<p>5 rows × 26 columns</p>\n",
       "</div>"
      ],
      "text/plain": [
       "   customerID  gender SeniorCitizen Partner Dependents  tenure PhoneService  \\\n",
       "0  7590-VHVEG  Female            No     Yes         No       1           No   \n",
       "1  5575-GNVDE    Male            No      No         No      34          Yes   \n",
       "2  3668-QPYBK    Male            No      No         No       2          Yes   \n",
       "3  7795-CFOCW    Male            No      No         No      45           No   \n",
       "4  9237-HQITU  Female            No      No         No       2          Yes   \n",
       "\n",
       "      MultipleLines InternetService OnlineSecurity  ... PaperlessBilling  \\\n",
       "0  No phone service             DSL             No  ...              Yes   \n",
       "1                No             DSL            Yes  ...               No   \n",
       "2                No             DSL            Yes  ...              Yes   \n",
       "3  No phone service             DSL            Yes  ...               No   \n",
       "4                No     Fiber optic             No  ...              Yes   \n",
       "\n",
       "               PaymentMethod MonthlyCharges TotalCharges Churn Churn_numeric  \\\n",
       "0           Electronic check          29.85        29.85    No             0   \n",
       "1               Mailed check          56.95      1889.50    No             0   \n",
       "2               Mailed check          53.85       108.15   Yes             1   \n",
       "3  Bank transfer (automatic)          42.30      1840.75    No             0   \n",
       "4           Electronic check          70.70       151.65   Yes             1   \n",
       "\n",
       "  Services_Score Vulnerability_Score  avg_monthly_spend  spend_category  \n",
       "0              1                   5          14.925000             Low  \n",
       "1              2                   2          53.985714          Medium  \n",
       "2              2                   6          36.050000             Low  \n",
       "3              3                   2          40.016304             Low  \n",
       "4              0                   6          50.550000          Medium  \n",
       "\n",
       "[5 rows x 26 columns]"
      ]
     },
     "execution_count": 37,
     "metadata": {},
     "output_type": "execute_result"
    }
   ],
   "source": [
    "df.head(5)"
   ]
  },
  {
   "cell_type": "markdown",
   "id": "c244329b",
   "metadata": {},
   "source": [
    "drop features based on EDA"
   ]
  },
  {
   "cell_type": "code",
   "execution_count": 38,
   "id": "b32856b4",
   "metadata": {},
   "outputs": [
    {
     "data": {
      "text/plain": [
       "Index(['customerID', 'gender', 'SeniorCitizen', 'Partner', 'Dependents',\n",
       "       'tenure', 'PhoneService', 'MultipleLines', 'InternetService',\n",
       "       'OnlineSecurity', 'OnlineBackup', 'DeviceProtection', 'TechSupport',\n",
       "       'StreamingTV', 'StreamingMovies', 'Contract', 'PaperlessBilling',\n",
       "       'PaymentMethod', 'MonthlyCharges', 'TotalCharges', 'Churn',\n",
       "       'Churn_numeric', 'Services_Score', 'Vulnerability_Score',\n",
       "       'avg_monthly_spend', 'spend_category'],\n",
       "      dtype='object')"
      ]
     },
     "execution_count": 38,
     "metadata": {},
     "output_type": "execute_result"
    }
   ],
   "source": [
    "df_important= df.copy()\n",
    "df_important.columns"
   ]
  },
  {
   "cell_type": "code",
   "execution_count": 39,
   "id": "a331a79e",
   "metadata": {},
   "outputs": [],
   "source": [
    "df_important.drop(columns=[ 'customerID','gender', 'SeniorCitizen', 'Partner', 'Dependents',\n",
    "        'PhoneService', 'MultipleLines'\n",
    "       , 'OnlineBackup', 'DeviceProtection', \n",
    "       'StreamingTV', 'StreamingMovies', 'PaperlessBilling', 'avg_monthly_spend', 'spend_category'\n",
    "       , 'Churn'], inplace=True)"
   ]
  },
  {
   "cell_type": "code",
   "execution_count": 40,
   "id": "12f29016",
   "metadata": {},
   "outputs": [
    {
     "data": {
      "text/html": [
       "<div>\n",
       "<style scoped>\n",
       "    .dataframe tbody tr th:only-of-type {\n",
       "        vertical-align: middle;\n",
       "    }\n",
       "\n",
       "    .dataframe tbody tr th {\n",
       "        vertical-align: top;\n",
       "    }\n",
       "\n",
       "    .dataframe thead th {\n",
       "        text-align: right;\n",
       "    }\n",
       "</style>\n",
       "<table border=\"1\" class=\"dataframe\">\n",
       "  <thead>\n",
       "    <tr style=\"text-align: right;\">\n",
       "      <th></th>\n",
       "      <th>tenure</th>\n",
       "      <th>InternetService</th>\n",
       "      <th>OnlineSecurity</th>\n",
       "      <th>TechSupport</th>\n",
       "      <th>Contract</th>\n",
       "      <th>PaymentMethod</th>\n",
       "      <th>MonthlyCharges</th>\n",
       "      <th>TotalCharges</th>\n",
       "      <th>Churn_numeric</th>\n",
       "      <th>Services_Score</th>\n",
       "      <th>Vulnerability_Score</th>\n",
       "    </tr>\n",
       "  </thead>\n",
       "  <tbody>\n",
       "    <tr>\n",
       "      <th>0</th>\n",
       "      <td>1</td>\n",
       "      <td>DSL</td>\n",
       "      <td>No</td>\n",
       "      <td>No</td>\n",
       "      <td>Month-to-month</td>\n",
       "      <td>Electronic check</td>\n",
       "      <td>29.85</td>\n",
       "      <td>29.85</td>\n",
       "      <td>0</td>\n",
       "      <td>1</td>\n",
       "      <td>5</td>\n",
       "    </tr>\n",
       "    <tr>\n",
       "      <th>1</th>\n",
       "      <td>34</td>\n",
       "      <td>DSL</td>\n",
       "      <td>Yes</td>\n",
       "      <td>No</td>\n",
       "      <td>One year</td>\n",
       "      <td>Mailed check</td>\n",
       "      <td>56.95</td>\n",
       "      <td>1889.50</td>\n",
       "      <td>0</td>\n",
       "      <td>2</td>\n",
       "      <td>2</td>\n",
       "    </tr>\n",
       "    <tr>\n",
       "      <th>2</th>\n",
       "      <td>2</td>\n",
       "      <td>DSL</td>\n",
       "      <td>Yes</td>\n",
       "      <td>No</td>\n",
       "      <td>Month-to-month</td>\n",
       "      <td>Mailed check</td>\n",
       "      <td>53.85</td>\n",
       "      <td>108.15</td>\n",
       "      <td>1</td>\n",
       "      <td>2</td>\n",
       "      <td>6</td>\n",
       "    </tr>\n",
       "    <tr>\n",
       "      <th>3</th>\n",
       "      <td>45</td>\n",
       "      <td>DSL</td>\n",
       "      <td>Yes</td>\n",
       "      <td>Yes</td>\n",
       "      <td>One year</td>\n",
       "      <td>Bank transfer (automatic)</td>\n",
       "      <td>42.30</td>\n",
       "      <td>1840.75</td>\n",
       "      <td>0</td>\n",
       "      <td>3</td>\n",
       "      <td>2</td>\n",
       "    </tr>\n",
       "    <tr>\n",
       "      <th>4</th>\n",
       "      <td>2</td>\n",
       "      <td>Fiber optic</td>\n",
       "      <td>No</td>\n",
       "      <td>No</td>\n",
       "      <td>Month-to-month</td>\n",
       "      <td>Electronic check</td>\n",
       "      <td>70.70</td>\n",
       "      <td>151.65</td>\n",
       "      <td>1</td>\n",
       "      <td>0</td>\n",
       "      <td>6</td>\n",
       "    </tr>\n",
       "  </tbody>\n",
       "</table>\n",
       "</div>"
      ],
      "text/plain": [
       "   tenure InternetService OnlineSecurity TechSupport        Contract  \\\n",
       "0       1             DSL             No          No  Month-to-month   \n",
       "1      34             DSL            Yes          No        One year   \n",
       "2       2             DSL            Yes          No  Month-to-month   \n",
       "3      45             DSL            Yes         Yes        One year   \n",
       "4       2     Fiber optic             No          No  Month-to-month   \n",
       "\n",
       "               PaymentMethod  MonthlyCharges  TotalCharges  Churn_numeric  \\\n",
       "0           Electronic check           29.85         29.85              0   \n",
       "1               Mailed check           56.95       1889.50              0   \n",
       "2               Mailed check           53.85        108.15              1   \n",
       "3  Bank transfer (automatic)           42.30       1840.75              0   \n",
       "4           Electronic check           70.70        151.65              1   \n",
       "\n",
       "   Services_Score  Vulnerability_Score  \n",
       "0               1                    5  \n",
       "1               2                    2  \n",
       "2               2                    6  \n",
       "3               3                    2  \n",
       "4               0                    6  "
      ]
     },
     "execution_count": 40,
     "metadata": {},
     "output_type": "execute_result"
    }
   ],
   "source": [
    "df_important.head(5)"
   ]
  },
  {
   "cell_type": "code",
   "execution_count": 41,
   "id": "d49b6d85",
   "metadata": {},
   "outputs": [
    {
     "data": {
      "text/plain": [
       "array(['Electronic check', 'Mailed check', 'Bank transfer (automatic)',\n",
       "       'Credit card (automatic)'], dtype=object)"
      ]
     },
     "execution_count": 41,
     "metadata": {},
     "output_type": "execute_result"
    }
   ],
   "source": [
    "df_important['PaymentMethod'].unique()"
   ]
  },
  {
   "cell_type": "code",
   "execution_count": 42,
   "id": "ccbf7b0f",
   "metadata": {},
   "outputs": [
    {
     "data": {
      "text/plain": [
       "array(['Month-to-month', 'One year', 'Two year'], dtype=object)"
      ]
     },
     "execution_count": 42,
     "metadata": {},
     "output_type": "execute_result"
    }
   ],
   "source": [
    "df_important['InternetService'].unique()\n",
    "df_important['Contract'].unique()"
   ]
  },
  {
   "cell_type": "code",
   "execution_count": 43,
   "id": "ad761c8c",
   "metadata": {},
   "outputs": [
    {
     "data": {
      "text/plain": [
       "count    7043.000000\n",
       "mean       32.371149\n",
       "std        24.559481\n",
       "min         0.000000\n",
       "25%         9.000000\n",
       "50%        29.000000\n",
       "75%        55.000000\n",
       "max        72.000000\n",
       "Name: tenure, dtype: float64"
      ]
     },
     "execution_count": 43,
     "metadata": {},
     "output_type": "execute_result"
    }
   ],
   "source": [
    "df_important['tenure'].describe()"
   ]
  },
  {
   "cell_type": "markdown",
   "id": "877b6b0e",
   "metadata": {},
   "source": [
    "### Feature Binning"
   ]
  },
  {
   "cell_type": "code",
   "execution_count": 44,
   "id": "88e2e342",
   "metadata": {},
   "outputs": [],
   "source": [
    "bins = [0, 12, 24, 48, 72]\n",
    "labels = ['New', 'Intermediate', 'Established', 'Loyal']\n",
    "\n",
    "# Apply binning\n",
    "df_important['tenure_group'] = pd.cut(df_important['tenure'], bins=bins, labels=labels, right=True, include_lowest=True)"
   ]
  },
  {
   "cell_type": "code",
   "execution_count": 45,
   "id": "ef1cbb4f",
   "metadata": {},
   "outputs": [],
   "source": [
    "df_important.drop(columns = ['tenure'], inplace=True)"
   ]
  },
  {
   "cell_type": "code",
   "execution_count": 46,
   "id": "79d901e8",
   "metadata": {},
   "outputs": [
    {
     "data": {
      "text/plain": [
       "InternetService        0\n",
       "OnlineSecurity         0\n",
       "TechSupport            0\n",
       "Contract               0\n",
       "PaymentMethod          0\n",
       "MonthlyCharges         0\n",
       "TotalCharges           0\n",
       "Churn_numeric          0\n",
       "Services_Score         0\n",
       "Vulnerability_Score    0\n",
       "tenure_group           0\n",
       "dtype: int64"
      ]
     },
     "execution_count": 46,
     "metadata": {},
     "output_type": "execute_result"
    }
   ],
   "source": [
    "df_important.isnull().sum()"
   ]
  },
  {
   "cell_type": "code",
   "execution_count": 47,
   "id": "d18971ff",
   "metadata": {},
   "outputs": [],
   "source": [
    "df_important['OnlineSecurity_numeric'] = df_important['OnlineSecurity'].map({'No': 0, 'Yes': 1})\n",
    "df_important['TechSupport_numeric'] = df_important['TechSupport'].map({'No': 0, 'Yes': 1})\n",
    "df_important.drop(columns=['OnlineSecurity', 'TechSupport'], inplace=True)"
   ]
  },
  {
   "cell_type": "code",
   "execution_count": 48,
   "id": "c988d9dc",
   "metadata": {},
   "outputs": [
    {
     "data": {
      "text/html": [
       "<div>\n",
       "<style scoped>\n",
       "    .dataframe tbody tr th:only-of-type {\n",
       "        vertical-align: middle;\n",
       "    }\n",
       "\n",
       "    .dataframe tbody tr th {\n",
       "        vertical-align: top;\n",
       "    }\n",
       "\n",
       "    .dataframe thead th {\n",
       "        text-align: right;\n",
       "    }\n",
       "</style>\n",
       "<table border=\"1\" class=\"dataframe\">\n",
       "  <thead>\n",
       "    <tr style=\"text-align: right;\">\n",
       "      <th></th>\n",
       "      <th>InternetService</th>\n",
       "      <th>Contract</th>\n",
       "      <th>PaymentMethod</th>\n",
       "      <th>MonthlyCharges</th>\n",
       "      <th>TotalCharges</th>\n",
       "      <th>Churn_numeric</th>\n",
       "      <th>Services_Score</th>\n",
       "      <th>Vulnerability_Score</th>\n",
       "      <th>tenure_group</th>\n",
       "      <th>OnlineSecurity_numeric</th>\n",
       "      <th>TechSupport_numeric</th>\n",
       "    </tr>\n",
       "  </thead>\n",
       "  <tbody>\n",
       "    <tr>\n",
       "      <th>0</th>\n",
       "      <td>DSL</td>\n",
       "      <td>Month-to-month</td>\n",
       "      <td>Electronic check</td>\n",
       "      <td>29.85</td>\n",
       "      <td>29.85</td>\n",
       "      <td>0</td>\n",
       "      <td>1</td>\n",
       "      <td>5</td>\n",
       "      <td>New</td>\n",
       "      <td>0.0</td>\n",
       "      <td>0.0</td>\n",
       "    </tr>\n",
       "    <tr>\n",
       "      <th>1</th>\n",
       "      <td>DSL</td>\n",
       "      <td>One year</td>\n",
       "      <td>Mailed check</td>\n",
       "      <td>56.95</td>\n",
       "      <td>1889.50</td>\n",
       "      <td>0</td>\n",
       "      <td>2</td>\n",
       "      <td>2</td>\n",
       "      <td>Established</td>\n",
       "      <td>1.0</td>\n",
       "      <td>0.0</td>\n",
       "    </tr>\n",
       "    <tr>\n",
       "      <th>2</th>\n",
       "      <td>DSL</td>\n",
       "      <td>Month-to-month</td>\n",
       "      <td>Mailed check</td>\n",
       "      <td>53.85</td>\n",
       "      <td>108.15</td>\n",
       "      <td>1</td>\n",
       "      <td>2</td>\n",
       "      <td>6</td>\n",
       "      <td>New</td>\n",
       "      <td>1.0</td>\n",
       "      <td>0.0</td>\n",
       "    </tr>\n",
       "    <tr>\n",
       "      <th>3</th>\n",
       "      <td>DSL</td>\n",
       "      <td>One year</td>\n",
       "      <td>Bank transfer (automatic)</td>\n",
       "      <td>42.30</td>\n",
       "      <td>1840.75</td>\n",
       "      <td>0</td>\n",
       "      <td>3</td>\n",
       "      <td>2</td>\n",
       "      <td>Established</td>\n",
       "      <td>1.0</td>\n",
       "      <td>1.0</td>\n",
       "    </tr>\n",
       "    <tr>\n",
       "      <th>4</th>\n",
       "      <td>Fiber optic</td>\n",
       "      <td>Month-to-month</td>\n",
       "      <td>Electronic check</td>\n",
       "      <td>70.70</td>\n",
       "      <td>151.65</td>\n",
       "      <td>1</td>\n",
       "      <td>0</td>\n",
       "      <td>6</td>\n",
       "      <td>New</td>\n",
       "      <td>0.0</td>\n",
       "      <td>0.0</td>\n",
       "    </tr>\n",
       "  </tbody>\n",
       "</table>\n",
       "</div>"
      ],
      "text/plain": [
       "  InternetService        Contract              PaymentMethod  MonthlyCharges  \\\n",
       "0             DSL  Month-to-month           Electronic check           29.85   \n",
       "1             DSL        One year               Mailed check           56.95   \n",
       "2             DSL  Month-to-month               Mailed check           53.85   \n",
       "3             DSL        One year  Bank transfer (automatic)           42.30   \n",
       "4     Fiber optic  Month-to-month           Electronic check           70.70   \n",
       "\n",
       "   TotalCharges  Churn_numeric  Services_Score  Vulnerability_Score  \\\n",
       "0         29.85              0               1                    5   \n",
       "1       1889.50              0               2                    2   \n",
       "2        108.15              1               2                    6   \n",
       "3       1840.75              0               3                    2   \n",
       "4        151.65              1               0                    6   \n",
       "\n",
       "  tenure_group  OnlineSecurity_numeric  TechSupport_numeric  \n",
       "0          New                     0.0                  0.0  \n",
       "1  Established                     1.0                  0.0  \n",
       "2          New                     1.0                  0.0  \n",
       "3  Established                     1.0                  1.0  \n",
       "4          New                     0.0                  0.0  "
      ]
     },
     "execution_count": 48,
     "metadata": {},
     "output_type": "execute_result"
    }
   ],
   "source": [
    "df_important.head(5)"
   ]
  },
  {
   "cell_type": "code",
   "execution_count": 49,
   "id": "6f6a1820",
   "metadata": {},
   "outputs": [
    {
     "data": {
      "text/plain": [
       "InternetService              0\n",
       "Contract                     0\n",
       "PaymentMethod                0\n",
       "MonthlyCharges               0\n",
       "TotalCharges                 0\n",
       "Churn_numeric                0\n",
       "Services_Score               0\n",
       "Vulnerability_Score          0\n",
       "tenure_group                 0\n",
       "OnlineSecurity_numeric    1526\n",
       "TechSupport_numeric       1526\n",
       "dtype: int64"
      ]
     },
     "execution_count": 49,
     "metadata": {},
     "output_type": "execute_result"
    }
   ],
   "source": [
    "df_important.isnull().sum()"
   ]
  },
  {
   "cell_type": "code",
   "execution_count": 50,
   "id": "8e35af1b",
   "metadata": {},
   "outputs": [
    {
     "name": "stdout",
     "output_type": "stream",
     "text": [
      "OnlineSecurity mode: 0.0\n",
      "TechSupport mode: 0.0\n",
      "Missing values after imputation:\n",
      "OnlineSecurity_numeric    0\n",
      "TechSupport_numeric       0\n",
      "dtype: int64\n"
     ]
    }
   ],
   "source": [
    "# Handle missing values in binary features using mode (most frequent value)\n",
    "from scipy import stats\n",
    "\n",
    "# Fill with mode (most frequent value)\n",
    "online_security_mode = df_important['OnlineSecurity_numeric'].mode()[0]\n",
    "tech_support_mode = df_important['TechSupport_numeric'].mode()[0]\n",
    "\n",
    "df_important['OnlineSecurity_numeric'] = df_important['OnlineSecurity_numeric'].fillna(online_security_mode)\n",
    "df_important['TechSupport_numeric'] = df_important['TechSupport_numeric'].fillna(tech_support_mode)\n",
    "\n",
    "print(f\"OnlineSecurity mode: {online_security_mode}\")\n",
    "print(f\"TechSupport mode: {tech_support_mode}\")\n",
    "print(\"Missing values after imputation:\")\n",
    "print(df_important[['OnlineSecurity_numeric', 'TechSupport_numeric']].isnull().sum())"
   ]
  },
  {
   "cell_type": "markdown",
   "id": "feb9afda",
   "metadata": {},
   "source": [
    "Note:\n",
    "\n",
    "For our binary features (OnlineSecurity, TechSupport), Mode = 0 is reasonable because:\n",
    "\n",
    "- Business Logic: Missing likely means \"No service\" rather than unknown\n",
    "- Optional Services: These are add-on services most customers don't purchase  \n",
    "- Consistent Pattern: Both features have same missing pattern and mode = 0\n"
   ]
  },
  {
   "cell_type": "markdown",
   "id": "a6795dec",
   "metadata": {},
   "source": [
    "### Build Pipeline for data preprocessing"
   ]
  },
  {
   "cell_type": "code",
   "execution_count": 51,
   "id": "0dc8d7a0",
   "metadata": {},
   "outputs": [],
   "source": [
    "remainder_features = [ 'Churn_numeric','OnlineSecurity_numeric', 'TechSupport_numeric']\n",
    "numerical_features = ['TotalCharges', 'MonthlyCharges']\n",
    "ordinal_features = ['tenure_group', 'Vulnerability_Score', 'Services_Score']\n",
    "nominal_features = ['InternetService', 'Contract', 'PaymentMethod']\n",
    "\n",
    "numerical_transformer = Pipeline (\n",
    "    steps= [\n",
    "        ('imputer', SimpleImputer(strategy='median')),\n",
    "        ('scaler', StandardScaler())\n",
    "    ]\n",
    ")\n",
    "\n",
    "nominal_transformer = Pipeline(\n",
    "    steps = [\n",
    "        ('imputer', SimpleImputer(\n",
    "            strategy= 'constant',\n",
    "            fill_value= 'missing'\n",
    "        )),\n",
    "        ('encoder' , OneHotEncoder())\n",
    "    ]\n",
    ")\n",
    "\n",
    "ordinal_transformer = Pipeline(\n",
    "    steps = [\n",
    "        ('imputer', SimpleImputer(\n",
    "            strategy= 'constant',\n",
    "            fill_value= 'missing'\n",
    "        )),\n",
    "        ('encoder' , OrdinalEncoder())\n",
    "    ]\n",
    ")\n",
    "\n",
    "preprocessor = ColumnTransformer(\n",
    "                                transformers=[\n",
    "                                            ('num', numerical_transformer, numerical_features),\n",
    "                                            ('nom', nominal_transformer, nominal_features),\n",
    "                                            ('ord', ordinal_transformer, ordinal_features)\n",
    "                                ],\n",
    "                                remainder='drop'\n",
    "                                )\n",
    "\n",
    "norminal_feature_names = []\n",
    "for feature in nominal_features:\n",
    "    unique_values = df[feature].unique()\n",
    "    norminal_feature_names.extend([f\"{feature}_{val}\" for val in unique_values])\n",
    "\n",
    "\n",
    "df_transformed = pd.DataFrame(\n",
    "                            preprocessor.fit_transform(df_important),\n",
    "                            columns=numerical_features+norminal_feature_names+ordinal_features\n",
    "                            )\n",
    "df_remainder = df_important[remainder_features]\n",
    "df_pp = pd.concat(\n",
    "                [df_transformed, df_remainder], \n",
    "                axis=1\n",
    "                )\n",
    "\n",
    "\n"
   ]
  },
  {
   "cell_type": "code",
   "execution_count": 52,
   "id": "56edf2b8",
   "metadata": {},
   "outputs": [
    {
     "data": {
      "text/html": [
       "<div>\n",
       "<style scoped>\n",
       "    .dataframe tbody tr th:only-of-type {\n",
       "        vertical-align: middle;\n",
       "    }\n",
       "\n",
       "    .dataframe tbody tr th {\n",
       "        vertical-align: top;\n",
       "    }\n",
       "\n",
       "    .dataframe thead th {\n",
       "        text-align: right;\n",
       "    }\n",
       "</style>\n",
       "<table border=\"1\" class=\"dataframe\">\n",
       "  <thead>\n",
       "    <tr style=\"text-align: right;\">\n",
       "      <th></th>\n",
       "      <th>TotalCharges</th>\n",
       "      <th>MonthlyCharges</th>\n",
       "      <th>InternetService_DSL</th>\n",
       "      <th>InternetService_Fiber optic</th>\n",
       "      <th>InternetService_No</th>\n",
       "      <th>Contract_Month-to-month</th>\n",
       "      <th>Contract_One year</th>\n",
       "      <th>Contract_Two year</th>\n",
       "      <th>PaymentMethod_Electronic check</th>\n",
       "      <th>PaymentMethod_Mailed check</th>\n",
       "      <th>PaymentMethod_Bank transfer (automatic)</th>\n",
       "      <th>PaymentMethod_Credit card (automatic)</th>\n",
       "      <th>tenure_group</th>\n",
       "      <th>Vulnerability_Score</th>\n",
       "      <th>Services_Score</th>\n",
       "      <th>Churn_numeric</th>\n",
       "      <th>OnlineSecurity_numeric</th>\n",
       "      <th>TechSupport_numeric</th>\n",
       "    </tr>\n",
       "  </thead>\n",
       "  <tbody>\n",
       "    <tr>\n",
       "      <th>0</th>\n",
       "      <td>-0.994971</td>\n",
       "      <td>-1.160323</td>\n",
       "      <td>1.0</td>\n",
       "      <td>0.0</td>\n",
       "      <td>0.0</td>\n",
       "      <td>1.0</td>\n",
       "      <td>0.0</td>\n",
       "      <td>0.0</td>\n",
       "      <td>0.0</td>\n",
       "      <td>0.0</td>\n",
       "      <td>1.0</td>\n",
       "      <td>0.0</td>\n",
       "      <td>3.0</td>\n",
       "      <td>5.0</td>\n",
       "      <td>1.0</td>\n",
       "      <td>0</td>\n",
       "      <td>0.0</td>\n",
       "      <td>0.0</td>\n",
       "    </tr>\n",
       "    <tr>\n",
       "      <th>1</th>\n",
       "      <td>-0.173876</td>\n",
       "      <td>-0.259629</td>\n",
       "      <td>1.0</td>\n",
       "      <td>0.0</td>\n",
       "      <td>0.0</td>\n",
       "      <td>0.0</td>\n",
       "      <td>1.0</td>\n",
       "      <td>0.0</td>\n",
       "      <td>0.0</td>\n",
       "      <td>0.0</td>\n",
       "      <td>0.0</td>\n",
       "      <td>1.0</td>\n",
       "      <td>0.0</td>\n",
       "      <td>2.0</td>\n",
       "      <td>2.0</td>\n",
       "      <td>0</td>\n",
       "      <td>1.0</td>\n",
       "      <td>0.0</td>\n",
       "    </tr>\n",
       "    <tr>\n",
       "      <th>2</th>\n",
       "      <td>-0.960399</td>\n",
       "      <td>-0.362660</td>\n",
       "      <td>1.0</td>\n",
       "      <td>0.0</td>\n",
       "      <td>0.0</td>\n",
       "      <td>1.0</td>\n",
       "      <td>0.0</td>\n",
       "      <td>0.0</td>\n",
       "      <td>0.0</td>\n",
       "      <td>0.0</td>\n",
       "      <td>0.0</td>\n",
       "      <td>1.0</td>\n",
       "      <td>3.0</td>\n",
       "      <td>6.0</td>\n",
       "      <td>2.0</td>\n",
       "      <td>1</td>\n",
       "      <td>1.0</td>\n",
       "      <td>0.0</td>\n",
       "    </tr>\n",
       "    <tr>\n",
       "      <th>3</th>\n",
       "      <td>-0.195400</td>\n",
       "      <td>-0.746535</td>\n",
       "      <td>1.0</td>\n",
       "      <td>0.0</td>\n",
       "      <td>0.0</td>\n",
       "      <td>0.0</td>\n",
       "      <td>1.0</td>\n",
       "      <td>0.0</td>\n",
       "      <td>1.0</td>\n",
       "      <td>0.0</td>\n",
       "      <td>0.0</td>\n",
       "      <td>0.0</td>\n",
       "      <td>0.0</td>\n",
       "      <td>2.0</td>\n",
       "      <td>3.0</td>\n",
       "      <td>0</td>\n",
       "      <td>1.0</td>\n",
       "      <td>1.0</td>\n",
       "    </tr>\n",
       "    <tr>\n",
       "      <th>4</th>\n",
       "      <td>-0.941193</td>\n",
       "      <td>0.197365</td>\n",
       "      <td>0.0</td>\n",
       "      <td>1.0</td>\n",
       "      <td>0.0</td>\n",
       "      <td>1.0</td>\n",
       "      <td>0.0</td>\n",
       "      <td>0.0</td>\n",
       "      <td>0.0</td>\n",
       "      <td>0.0</td>\n",
       "      <td>1.0</td>\n",
       "      <td>0.0</td>\n",
       "      <td>3.0</td>\n",
       "      <td>6.0</td>\n",
       "      <td>0.0</td>\n",
       "      <td>1</td>\n",
       "      <td>0.0</td>\n",
       "      <td>0.0</td>\n",
       "    </tr>\n",
       "  </tbody>\n",
       "</table>\n",
       "</div>"
      ],
      "text/plain": [
       "   TotalCharges  MonthlyCharges  InternetService_DSL  \\\n",
       "0     -0.994971       -1.160323                  1.0   \n",
       "1     -0.173876       -0.259629                  1.0   \n",
       "2     -0.960399       -0.362660                  1.0   \n",
       "3     -0.195400       -0.746535                  1.0   \n",
       "4     -0.941193        0.197365                  0.0   \n",
       "\n",
       "   InternetService_Fiber optic  InternetService_No  Contract_Month-to-month  \\\n",
       "0                          0.0                 0.0                      1.0   \n",
       "1                          0.0                 0.0                      0.0   \n",
       "2                          0.0                 0.0                      1.0   \n",
       "3                          0.0                 0.0                      0.0   \n",
       "4                          1.0                 0.0                      1.0   \n",
       "\n",
       "   Contract_One year  Contract_Two year  PaymentMethod_Electronic check  \\\n",
       "0                0.0                0.0                             0.0   \n",
       "1                1.0                0.0                             0.0   \n",
       "2                0.0                0.0                             0.0   \n",
       "3                1.0                0.0                             1.0   \n",
       "4                0.0                0.0                             0.0   \n",
       "\n",
       "   PaymentMethod_Mailed check  PaymentMethod_Bank transfer (automatic)  \\\n",
       "0                         0.0                                      1.0   \n",
       "1                         0.0                                      0.0   \n",
       "2                         0.0                                      0.0   \n",
       "3                         0.0                                      0.0   \n",
       "4                         0.0                                      1.0   \n",
       "\n",
       "   PaymentMethod_Credit card (automatic)  tenure_group  Vulnerability_Score  \\\n",
       "0                                    0.0           3.0                  5.0   \n",
       "1                                    1.0           0.0                  2.0   \n",
       "2                                    1.0           3.0                  6.0   \n",
       "3                                    0.0           0.0                  2.0   \n",
       "4                                    0.0           3.0                  6.0   \n",
       "\n",
       "   Services_Score  Churn_numeric  OnlineSecurity_numeric  TechSupport_numeric  \n",
       "0             1.0              0                     0.0                  0.0  \n",
       "1             2.0              0                     1.0                  0.0  \n",
       "2             2.0              1                     1.0                  0.0  \n",
       "3             3.0              0                     1.0                  1.0  \n",
       "4             0.0              1                     0.0                  0.0  "
      ]
     },
     "execution_count": 52,
     "metadata": {},
     "output_type": "execute_result"
    }
   ],
   "source": [
    "df_pp.head(5)"
   ]
  },
  {
   "cell_type": "markdown",
   "id": "bc16faeb",
   "metadata": {},
   "source": [
    "### Handle class imbalance"
   ]
  },
  {
   "cell_type": "code",
   "execution_count": 53,
   "id": "f388fc6f",
   "metadata": {},
   "outputs": [
    {
     "data": {
      "image/png": "[encoded data removed]",
      "text/plain": [
       "<Figure size 600x400 with 1 Axes>"
      ]
     },
     "metadata": {},
     "output_type": "display_data"
    }
   ],
   "source": [
    "plt.figure(figsize=(6, 4))\n",
    "df_pp['Churn_numeric'].value_counts().plot(kind='bar', color='skyblue')\n",
    "plt.title('Distribution of Churn')\n",
    "plt.xlabel('Churn')\n",
    "plt.ylabel('Number of Customers')\n",
    "plt.xticks(rotation=0)\n",
    "plt.grid(axis='y')\n",
    "plt.show()"
   ]
  },
  {
   "cell_type": "code",
   "execution_count": 54,
   "id": "7d8b9d8f",
   "metadata": {},
   "outputs": [],
   "source": [
    "X = df_pp.drop(columns=['Churn_numeric'])\n",
    "Y = df_pp['Churn_numeric']"
   ]
  },
  {
   "cell_type": "code",
   "execution_count": 55,
   "id": "d77fa9f6",
   "metadata": {},
   "outputs": [
    {
     "data": {
      "text/plain": [
       "TotalCharges                               0\n",
       "MonthlyCharges                             0\n",
       "InternetService_DSL                        0\n",
       "InternetService_Fiber optic                0\n",
       "InternetService_No                         0\n",
       "Contract_Month-to-month                    0\n",
       "Contract_One year                          0\n",
       "Contract_Two year                          0\n",
       "PaymentMethod_Electronic check             0\n",
       "PaymentMethod_Mailed check                 0\n",
       "PaymentMethod_Bank transfer (automatic)    0\n",
       "PaymentMethod_Credit card (automatic)      0\n",
       "tenure_group                               0\n",
       "Vulnerability_Score                        0\n",
       "Services_Score                             0\n",
       "OnlineSecurity_numeric                     0\n",
       "TechSupport_numeric                        0\n",
       "dtype: int64"
      ]
     },
     "execution_count": 55,
     "metadata": {},
     "output_type": "execute_result"
    }
   ],
   "source": [
    "X.isnull().sum()"
   ]
  },
  {
   "cell_type": "code",
   "execution_count": 56,
   "id": "c6df7000",
   "metadata": {},
   "outputs": [],
   "source": [
    "X_train, X_test, Y_train, Y_test = train_test_split(\n",
    "                                                    X, Y,\n",
    "                                                    test_size=0.2,\n",
    "                                                    random_state=42\n",
    "                                                    )"
   ]
  },
  {
   "cell_type": "code",
   "execution_count": 57,
   "id": "88a27b8c",
   "metadata": {},
   "outputs": [],
   "source": [
    "smote = SMOTE(random_state=42)\n",
    "X_train_resampled, Y_train_resampled = smote.fit_resample(X_train, Y_train)"
   ]
  },
  {
   "cell_type": "code",
   "execution_count": 58,
   "id": "71f8c6de",
   "metadata": {},
   "outputs": [
    {
     "data": {
      "text/plain": [
       "Text(0, 0.5, 'Count')"
      ]
     },
     "execution_count": 58,
     "metadata": {},
     "output_type": "execute_result"
    },
    {
     "data": {
      "image/png": "[encoded data removed]",
      "text/plain": [
       "<Figure size 1500x400 with 3 Axes>"
      ]
     },
     "metadata": {},
     "output_type": "display_data"
    }
   ],
   "source": [
    "plt.figure(figsize=(15, 4))\n",
    "\n",
    "# Before SMOTE\n",
    "plt.subplot(131)\n",
    "Y_train.value_counts().plot(kind='bar')\n",
    "plt.title('Class Distribution - Training Set (Before SMOTE)')\n",
    "plt.xlabel('Class')\n",
    "plt.ylabel('Count')\n",
    "\n",
    "# After SMOTE\n",
    "plt.subplot(132)\n",
    "Y_train_resampled.value_counts().plot(kind='bar')\n",
    "plt.title('Class Distribution - Training Set (After SMOTE)')\n",
    "plt.xlabel('Class')\n",
    "plt.ylabel('Count')\n",
    "\n",
    "# Test Set\n",
    "plt.subplot(133)\n",
    "Y_test.value_counts().plot(kind='bar')\n",
    "plt.title('Class Distribution - Test Set')\n",
    "plt.xlabel('Class')\n",
    "plt.ylabel('Count')"
   ]
  },
  {
   "cell_type": "code",
   "execution_count": 59,
   "id": "e2be0710",
   "metadata": {},
   "outputs": [],
   "source": [
    "np.savez('artifacts/X_train.npz', X_train_resampled)\n",
    "np.savez('artifacts/Y_train.npz', Y_train_resampled)\n",
    "np.savez('artifacts/X_test.npz', X_test)\n",
    "np.savez('artifacts/Y_test.npz', Y_test)"
   ]
  },
  {
   "cell_type": "code",
   "execution_count": 60,
   "id": "9dfe51dd",
   "metadata": {},
   "outputs": [],
   "source": [
    "import pandas as pd\n",
    "import os\n",
    "\n",
    "# Ensure the folder exists\n",
    "os.makedirs(\"artifacts/data\", exist_ok=True)\n",
    "\n",
    "# Save each split as CSV\n",
    "pd.DataFrame(X_train_resampled).to_csv(\"artifacts/data/X_train.csv\", index=False)\n",
    "pd.DataFrame(X_test).to_csv(\"artifacts/data/X_test.csv\", index=False)\n",
    "pd.DataFrame(Y_train_resampled).to_csv(\"artifacts/data/Y_train.csv\", index=False)\n",
    "pd.DataFrame(Y_test).to_csv(\"artifacts/data/Y_test.csv\", index=False)\n"
   ]
  },
  {
   "cell_type": "code",
   "execution_count": 61,
   "id": "077555f3",
   "metadata": {},
   "outputs": [],
   "source": [
    "X_train = np.load(\"artifacts/X_train.npz\")['arr_0']\n",
    "X_test = np.load(\"artifacts/X_test.npz\")['arr_0']\n",
    "y_train = np.load(\"artifacts/y_train.npz\")['arr_0']\n",
    "y_test = np.load(\"artifacts/y_test.npz\")['arr_0']"
   ]
  },
  {
   "cell_type": "markdown",
   "id": "b3565357",
   "metadata": {},
   "source": [
    "### Modal Training"
   ]
  },
  {
   "cell_type": "code",
   "execution_count": 62,
   "id": "227e2807",
   "metadata": {},
   "outputs": [],
   "source": [
    "rf_param_grid = {\n",
    "    'n_estimators': [100, 200, 300],\n",
    "    'max_depth': [10, 15, 20],\n",
    "    'min_samples_split': [2, 5, 10],\n",
    "    'max_features': ['sqrt', 'log2'],\n",
    "    'criterion': ['gini', 'entropy']\n",
    "}\n",
    "\n",
    "# XGBoost hyperparameters\n",
    "xgb_param_grid = {\n",
    "    'learning_rate': [0.01, 0.1, 0.2],\n",
    "    'max_depth': [3, 6, 9],\n",
    "    'n_estimators': [100, 200, 300],\n",
    "    'subsample': [0.8, 0.9, 1.0],\n",
    "    'colsample_bytree': [0.8, 0.9, 1.0]\n",
    "}\n",
    "\n",
    "# CatBoost hyperparameters\n",
    "cb_param_grid = {\n",
    "    'learning_rate': [0.01, 0.1, 0.2],\n",
    "    'depth': [4, 6, 8],\n",
    "    'iterations': [100, 200, 300],\n",
    "    'l2_leaf_reg': [1, 3, 5],\n",
    "    'border_count': [32, 64, 128]\n",
    "}\n",
    "\n",
    "# Dictionary to hold parameter grids for each model\n",
    "param_grids = {\n",
    "    \"Random Forest\": rf_param_grid,\n",
    "    \"XGBoost\": xgb_param_grid,\n",
    "    \"CatBoost\": cb_param_grid\n",
    "}"
   ]
  },
  {
   "cell_type": "code",
   "execution_count": 63,
   "id": "4bca0b16",
   "metadata": {},
   "outputs": [],
   "source": [
    "models = {\n",
    "    \"Random Forest\": RandomForestClassifier(random_state=42, n_jobs=-1),\n",
    "    \"XGBoost\": xgb.XGBClassifier(random_state=42, eval_metric='logloss', n_jobs=-1),\n",
    "    \"CatBoost\": cb.CatBoostClassifier(random_state=42, verbose=False)\n",
    "}"
   ]
  },
  {
   "cell_type": "code",
   "execution_count": 64,
   "id": "c630e70d",
   "metadata": {},
   "outputs": [],
   "source": [
    "from sklearn.model_selection import StratifiedKFold\n",
    "\n",
    "cv = StratifiedKFold(\n",
    "    n_splits=5,  # Reduced from 6 for faster training\n",
    "    shuffle=True, \n",
    "    random_state=42\n",
    ")"
   ]
  },
  {
   "cell_type": "code",
   "execution_count": 78,
   "id": "6e014d0b",
   "metadata": {},
   "outputs": [
    {
     "name": "stdout",
     "output_type": "stream",
     "text": [
      "\n",
      "============================================================\n",
      "HYPERPARAMETER TUNING RESULTS\n",
      "============================================================\n",
      "\n",
      "Tuning Random Forest...\n",
      "Fitting GridSearchCV for Random Forest...\n",
      "Fitting 5 folds for each of 108 candidates, totalling 540 fits\n",
      "GridSearchCV for Random Forest completed.\n",
      "Best parameters for Random Forest: {'criterion': 'entropy', 'max_depth': 20, 'max_features': 'sqrt', 'min_samples_split': 2, 'n_estimators': 300}\n",
      "Best CV AUC score for Random Forest: 0.9095\n",
      "\n",
      "Tuning XGBoost...\n",
      "Fitting GridSearchCV for XGBoost...\n",
      "Fitting 5 folds for each of 243 candidates, totalling 1215 fits\n",
      "GridSearchCV for XGBoost completed.\n",
      "Best parameters for XGBoost: {'colsample_bytree': 0.9, 'learning_rate': 0.1, 'max_depth': 6, 'n_estimators': 200, 'subsample': 0.9}\n",
      "Best CV AUC score for XGBoost: 0.9149\n",
      "\n",
      "Tuning CatBoost...\n",
      "Fitting GridSearchCV for CatBoost...\n",
      "Fitting 5 folds for each of 243 candidates, totalling 1215 fits\n",
      "GridSearchCV for CatBoost completed.\n",
      "Best parameters for CatBoost: {'border_count': 32, 'depth': 6, 'iterations': 300, 'l2_leaf_reg': 1, 'learning_rate': 0.1}\n",
      "Best CV AUC score for CatBoost: 0.9192\n"
     ]
    }
   ],
   "source": [
    "grid_search_results = {}\n",
    "best_models = {}\n",
    "\n",
    "print(\"\\n\" + \"=\"*60)\n",
    "print(\"HYPERPARAMETER TUNING RESULTS\")\n",
    "print(\"=\"*60)\n",
    "\n",
    "for model_name, model in models.items():\n",
    "    print(f\"\\nTuning {model_name}...\")\n",
    "    param_grid = param_grids[model_name]\n",
    "    \n",
    "    grid_search = GridSearchCV(\n",
    "        estimator=model,\n",
    "        param_grid=param_grid,\n",
    "        scoring='roc_auc',  # Changed to AUC for better churn prediction evaluation\n",
    "        cv=cv,\n",
    "        verbose=1,\n",
    "        return_train_score=False,\n",
    "        n_jobs=-1\n",
    "    )\n",
    "\n",
    "    print(f\"Fitting GridSearchCV for {model_name}...\")\n",
    "    grid_search.fit(X_train, y_train)\n",
    "\n",
    "    grid_search_results[model_name] = grid_search\n",
    "    best_models[model_name] = grid_search.best_estimator_\n",
    "    \n",
    "    print(f\"GridSearchCV for {model_name} completed.\")\n",
    "    print(f\"Best parameters for {model_name}: {grid_search.best_params_}\")\n",
    "    print(f\"Best CV AUC score for {model_name}: {grid_search.best_score_:.4f}\")\n"
   ]
  },
  {
   "cell_type": "code",
   "execution_count": 66,
   "id": "689e911e",
   "metadata": {},
   "outputs": [
    {
     "name": "stdout",
     "output_type": "stream",
     "text": [
      "\n",
      "============================================================\n",
      "TEST SET EVALUATION\n",
      "============================================================\n",
      "\n",
      "Evaluating Random Forest on test set...\n",
      "CV AUC: 0.9095\n",
      "Test AUC: 0.8359\n",
      "Overfitting: 0.0736\n",
      "\n",
      "Classification Report for Random Forest:\n",
      "              precision    recall  f1-score   support\n",
      "\n",
      "           0       0.87      0.82      0.84      1036\n",
      "           1       0.57      0.64      0.60       373\n",
      "\n",
      "    accuracy                           0.78      1409\n",
      "   macro avg       0.72      0.73      0.72      1409\n",
      "weighted avg       0.79      0.78      0.78      1409\n",
      "\n",
      "\n",
      "Evaluating XGBoost on test set...\n",
      "CV AUC: 0.9149\n",
      "Test AUC: 0.8535\n",
      "Overfitting: 0.0614\n",
      "\n",
      "Classification Report for XGBoost:\n",
      "              precision    recall  f1-score   support\n",
      "\n",
      "           0       0.88      0.83      0.85      1036\n",
      "           1       0.59      0.69      0.64       373\n",
      "\n",
      "    accuracy                           0.79      1409\n",
      "   macro avg       0.74      0.76      0.75      1409\n",
      "weighted avg       0.81      0.79      0.80      1409\n",
      "\n",
      "\n",
      "Evaluating CatBoost on test set...\n",
      "CV AUC: 0.9192\n",
      "Test AUC: 0.8531\n",
      "Overfitting: 0.0661\n",
      "\n",
      "Classification Report for CatBoost:\n",
      "              precision    recall  f1-score   support\n",
      "\n",
      "           0       0.88      0.84      0.86      1036\n",
      "           1       0.60      0.67      0.64       373\n",
      "\n",
      "    accuracy                           0.80      1409\n",
      "   macro avg       0.74      0.76      0.75      1409\n",
      "weighted avg       0.80      0.80      0.80      1409\n",
      "\n"
     ]
    }
   ],
   "source": [
    "print(\"\\n\" + \"=\"*60)\n",
    "print(\"TEST SET EVALUATION\")\n",
    "print(\"=\"*60)\n",
    "\n",
    "test_results = {}\n",
    "\n",
    "for model_name, best_model in best_models.items():\n",
    "    print(f\"\\nEvaluating {model_name} on test set...\")\n",
    "    \n",
    "    # Predictions\n",
    "    y_pred = best_model.predict(X_test)\n",
    "    y_pred_proba = best_model.predict_proba(X_test)[:, 1]\n",
    "    \n",
    "    # Calculate metrics\n",
    "    test_auc = roc_auc_score(y_test, y_pred_proba)\n",
    "    cv_auc = grid_search_results[model_name].best_score_\n",
    "    \n",
    "    test_results[model_name] = {\n",
    "        'cv_auc': cv_auc,\n",
    "        'test_auc': test_auc,\n",
    "        'predictions': y_pred,\n",
    "        'probabilities': y_pred_proba,\n",
    "        'best_params': grid_search_results[model_name].best_params_\n",
    "    }\n",
    "    \n",
    "    print(f\"CV AUC: {cv_auc:.4f}\")\n",
    "    print(f\"Test AUC: {test_auc:.4f}\")\n",
    "    print(f\"Overfitting: {cv_auc - test_auc:.4f}\")\n",
    "    \n",
    "    print(f\"\\nClassification Report for {model_name}:\")\n",
    "    print(classification_report(y_test, y_pred))"
   ]
  },
  {
   "cell_type": "code",
   "execution_count": 67,
   "id": "3d86186b",
   "metadata": {},
   "outputs": [
    {
     "name": "stdout",
     "output_type": "stream",
     "text": [
      "\n",
      "============================================================\n",
      "FEATURE IMPORTANCE ANALYSIS\n",
      "============================================================\n",
      "\n",
      "Top 10 Feature Importances for Random Forest:\n",
      " 1. TotalCharges                       : 0.2172\n",
      " 2. MonthlyCharges                     : 0.2137\n",
      " 3. Vulnerability_Score                : 0.1213\n",
      " 4. Contract_Month-to-month            : 0.0768\n",
      " 5. Services_Score                     : 0.0550\n",
      " 6. Contract_Two year                  : 0.0463\n",
      " 7. tenure_group                       : 0.0451\n",
      " 8. PaymentMethod_Bank transfer (automatic): 0.0385\n",
      " 9. InternetService_Fiber optic        : 0.0321\n",
      "10. OnlineSecurity_numeric             : 0.0321\n",
      "\n",
      "Top 10 Feature Importances for XGBoost:\n",
      " 1. Contract_Month-to-month            : 0.3237\n",
      " 2. InternetService_Fiber optic        : 0.2060\n",
      " 3. Contract_Two year                  : 0.1089\n",
      " 4. Contract_One year                  : 0.0464\n",
      " 5. InternetService_No                 : 0.0379\n",
      " 6. OnlineSecurity_numeric             : 0.0353\n",
      " 7. PaymentMethod_Bank transfer (automatic): 0.0350\n",
      " 8. Vulnerability_Score                : 0.0300\n",
      " 9. TechSupport_numeric                : 0.0279\n",
      "10. InternetService_DSL                : 0.0273\n",
      "\n",
      "Top 10 Feature Importances for CatBoost:\n",
      " 1. Vulnerability_Score                : 15.7376\n",
      " 2. Services_Score                     : 12.0025\n",
      " 3. MonthlyCharges                     : 11.1245\n",
      " 4. TotalCharges                       : 10.5722\n",
      " 5. TechSupport_numeric                : 8.1133\n",
      " 6. OnlineSecurity_numeric             : 7.7118\n",
      " 7. PaymentMethod_Mailed check         : 4.6666\n",
      " 8. Contract_Month-to-month            : 4.5211\n",
      " 9. PaymentMethod_Electronic check     : 4.3135\n",
      "10. PaymentMethod_Bank transfer (automatic): 4.1694\n",
      "\n",
      "Top 10 Feature Importances for Random Forest:\n",
      " 1. TotalCharges                       : 0.2172\n",
      " 2. MonthlyCharges                     : 0.2137\n",
      " 3. Vulnerability_Score                : 0.1213\n",
      " 4. Contract_Month-to-month            : 0.0768\n",
      " 5. Services_Score                     : 0.0550\n",
      " 6. Contract_Two year                  : 0.0463\n",
      " 7. tenure_group                       : 0.0451\n",
      " 8. PaymentMethod_Bank transfer (automatic): 0.0385\n",
      " 9. InternetService_Fiber optic        : 0.0321\n",
      "10. OnlineSecurity_numeric             : 0.0321\n",
      "\n",
      "Top 10 Feature Importances for XGBoost:\n",
      " 1. Contract_Month-to-month            : 0.3237\n",
      " 2. InternetService_Fiber optic        : 0.2060\n",
      " 3. Contract_Two year                  : 0.1089\n",
      " 4. Contract_One year                  : 0.0464\n",
      " 5. InternetService_No                 : 0.0379\n",
      " 6. OnlineSecurity_numeric             : 0.0353\n",
      " 7. PaymentMethod_Bank transfer (automatic): 0.0350\n",
      " 8. Vulnerability_Score                : 0.0300\n",
      " 9. TechSupport_numeric                : 0.0279\n",
      "10. InternetService_DSL                : 0.0273\n",
      "\n",
      "Top 10 Feature Importances for CatBoost:\n",
      " 1. Vulnerability_Score                : 15.7376\n",
      " 2. Services_Score                     : 12.0025\n",
      " 3. MonthlyCharges                     : 11.1245\n",
      " 4. TotalCharges                       : 10.5722\n",
      " 5. TechSupport_numeric                : 8.1133\n",
      " 6. OnlineSecurity_numeric             : 7.7118\n",
      " 7. PaymentMethod_Mailed check         : 4.6666\n",
      " 8. Contract_Month-to-month            : 4.5211\n",
      " 9. PaymentMethod_Electronic check     : 4.3135\n",
      "10. PaymentMethod_Bank transfer (automatic): 4.1694\n"
     ]
    }
   ],
   "source": [
    "print(\"\\n\" + \"=\"*60)\n",
    "print(\"FEATURE IMPORTANCE ANALYSIS\")\n",
    "print(\"=\"*60)\n",
    "\n",
    "feature_importance_results = {}\n",
    "\n",
    "for model_name, best_model in best_models.items():\n",
    "    # Get feature importances\n",
    "    importances = best_model.feature_importances_\n",
    "    \n",
    "    # Use feature names from X (processed features)\n",
    "    feature_names = X.columns if hasattr(X, 'columns') else [f'feature_{i}' for i in range(len(importances))]\n",
    "    \n",
    "    # Create DataFrame\n",
    "    feature_df = pd.DataFrame({\n",
    "        'feature': feature_names,\n",
    "        'importance': importances\n",
    "    }).sort_values('importance', ascending=False)\n",
    "    \n",
    "    feature_importance_results[model_name] = feature_df\n",
    "    \n",
    "    print(f\"\\nTop 10 Feature Importances for {model_name}:\")\n",
    "    for i, (_, row) in enumerate(feature_df.head(10).iterrows(), 1):\n",
    "        print(f\"{i:2d}. {row['feature']:<35}: {row['importance']:.4f}\")"
   ]
  },
  {
   "cell_type": "code",
   "execution_count": 68,
   "id": "b30214f6",
   "metadata": {},
   "outputs": [
    {
     "name": "stdout",
     "output_type": "stream",
     "text": [
      "\n",
      "============================================================\n",
      "COMBINED FEATURE IMPORTANCE RANKING\n",
      "============================================================\n",
      "\n",
      "Top 10 Features (Average across all models):\n",
      " 1. Vulnerability_Score                 | Avg: 5.2963\n",
      "     Random Forest: 0.1213\n",
      "     XGBoost     : 0.0300\n",
      "     CatBoost    : 15.7376\n",
      "\n",
      " 2. Services_Score                      | Avg: 4.0254\n",
      "     Random Forest: 0.0550\n",
      "     XGBoost     : 0.0188\n",
      "     CatBoost    : 12.0025\n",
      "\n",
      " 3. MonthlyCharges                      | Avg: 3.7839\n",
      "     Random Forest: 0.2137\n",
      "     XGBoost     : 0.0136\n",
      "     CatBoost    : 11.1245\n",
      "\n",
      " 4. TotalCharges                        | Avg: 3.6008\n",
      "     Random Forest: 0.2172\n",
      "     XGBoost     : 0.0131\n",
      "     CatBoost    : 10.5722\n",
      "\n",
      " 5. TechSupport_numeric                 | Avg: 2.7229\n",
      "     Random Forest: 0.0277\n",
      "     XGBoost     : 0.0279\n",
      "     CatBoost    : 8.1133\n",
      "\n",
      " 6. OnlineSecurity_numeric              | Avg: 2.5931\n",
      "     Random Forest: 0.0321\n",
      "     XGBoost     : 0.0353\n",
      "     CatBoost    : 7.7118\n",
      "\n",
      " 7. Contract_Month-to-month             | Avg: 1.6405\n",
      "     Random Forest: 0.0768\n",
      "     XGBoost     : 0.3237\n",
      "     CatBoost    : 4.5211\n",
      "\n",
      " 8. PaymentMethod_Mailed check          | Avg: 1.5666\n",
      "     Random Forest: 0.0165\n",
      "     XGBoost     : 0.0166\n",
      "     CatBoost    : 4.6666\n",
      "\n",
      " 9. PaymentMethod_Electronic check      | Avg: 1.4494\n",
      "     Random Forest: 0.0174\n",
      "     XGBoost     : 0.0174\n",
      "     CatBoost    : 4.3135\n",
      "\n",
      "10. PaymentMethod_Bank transfer (automatic) | Avg: 1.4143\n",
      "     Random Forest: 0.0385\n",
      "     XGBoost     : 0.0350\n",
      "     CatBoost    : 4.1694\n",
      "\n"
     ]
    }
   ],
   "source": [
    "print(\"\\n\" + \"=\"*60)\n",
    "print(\"COMBINED FEATURE IMPORTANCE RANKING\")\n",
    "print(\"=\"*60)\n",
    "\n",
    "# Combine all feature importances\n",
    "combined_importance = pd.DataFrame({'Feature': feature_names})\n",
    "\n",
    "for model_name, feature_df in feature_importance_results.items():\n",
    "    importance_dict = dict(zip(feature_df['feature'], feature_df['importance']))\n",
    "    combined_importance[f'{model_name}_Importance'] = combined_importance['Feature'].map(importance_dict)\n",
    "\n",
    "# Calculate average importance\n",
    "importance_cols = [col for col in combined_importance.columns if 'Importance' in col]\n",
    "combined_importance['Average_Importance'] = combined_importance[importance_cols].mean(axis=1)\n",
    "combined_importance = combined_importance.sort_values('Average_Importance', ascending=False)\n",
    "\n",
    "print(\"\\nTop 10 Features (Average across all models):\")\n",
    "for i, (_, row) in enumerate(combined_importance.head(10).iterrows(), 1):\n",
    "    print(f\"{i:2d}. {row['Feature']:<35} | Avg: {row['Average_Importance']:.4f}\")\n",
    "    for col in importance_cols:\n",
    "        model_name = col.replace('_Importance', '')\n",
    "        print(f\"     {model_name:<12}: {row[col]:.4f}\")\n",
    "    print()"
   ]
  },
  {
   "cell_type": "code",
   "execution_count": 69,
   "id": "92c8c42a",
   "metadata": {},
   "outputs": [
    {
     "data": {
      "image/png": "[encoded data removed]",
      "text/plain": [
       "<Figure size 1800x600 with 6 Axes>"
      ]
     },
     "metadata": {},
     "output_type": "display_data"
    }
   ],
   "source": [
    "# Create confusion matrices for all models\n",
    "fig, axes = plt.subplots(1, 3, figsize=(18, 6))\n",
    "fig.suptitle('Confusion Matrices for All Models', fontsize=16, fontweight='bold')\n",
    "\n",
    "for i, (model_name, best_model) in enumerate(best_models.items()):\n",
    "    # Get predictions for this model\n",
    "    y_pred = test_results[model_name]['predictions']\n",
    "    \n",
    "    # Create confusion matrix\n",
    "    cm = confusion_matrix(y_test, y_pred)\n",
    "    \n",
    "    # Plot confusion matrix\n",
    "    sns.heatmap(cm, annot=True, fmt='d', cmap='Blues', \n",
    "                xticklabels=['No Churn', 'Churn'], \n",
    "                yticklabels=['No Churn', 'Churn'],\n",
    "                ax=axes[i], cbar_kws={'shrink': 0.8})\n",
    "    \n",
    "    axes[i].set_title(f'{model_name}', fontsize=14, fontweight='bold')\n",
    "    axes[i].set_xlabel('Predicted', fontsize=12)\n",
    "    axes[i].set_ylabel('Actual', fontsize=12)\n",
    "\n",
    "plt.tight_layout()\n",
    "plt.show()"
   ]
  },
  {
   "cell_type": "markdown",
   "id": "f46a5d08",
   "metadata": {},
   "source": [
    "### Business Impact Analysis\n",
    "\n",
    "#### 5.1 Customer Segmentation for Retention\n",
    "\n",
    "Based on our churn prediction models, we'll segment customers into risk categories and develop targeted retention strategies."
   ]
  },
  {
   "cell_type": "code",
   "execution_count": null,
   "id": "d651fe62",
   "metadata": {},
   "outputs": [
    {
     "name": "stdout",
     "output_type": "stream",
     "text": [
      "============================================================\n",
      "CUSTOMER SEGMENTATION ANALYSIS\n",
      "============================================================\n",
      "              Customer_Count  Avg_Churn_Prob  Std_Churn_Prob  Actual_Churns  \\\n",
      "Risk_Segment                                                                  \n",
      "High-Risk                252           0.847           0.080            174   \n",
      "Low-Risk                 908           0.113           0.114             93   \n",
      "Medium-Risk              249           0.555           0.092            106   \n",
      "\n",
      "              Actual_Churn_Rate  Segment_Percentage  \n",
      "Risk_Segment                                         \n",
      "High-Risk                 0.690                17.9  \n",
      "Low-Risk                  0.102                64.4  \n",
      "Medium-Risk               0.426                17.7  \n",
      "\n",
      "============================================================\n",
      "SEGMENT PREDICTION ACCURACY\n",
      "============================================================\n",
      "High-Risk   :  252 customers | Actual churn rate: 69.0%\n",
      "Medium-Risk :  249 customers | Actual churn rate: 42.6%\n",
      "Low-Risk    :  908 customers | Actual churn rate: 10.2%\n"
     ]
    }
   ],
   "source": [
    "# Use the best performing model  for business analysis\n",
    "best_model = best_models['CatBoost']\n",
    "churn_probabilities = test_results['CatBoost']['probabilities']\n",
    "\n",
    "\n",
    "def segment_customers(probabilities):\n",
    "    \n",
    "    segments = []\n",
    "    for prob in probabilities:\n",
    "        if prob >= 0.7:\n",
    "            segments.append('High-Risk')\n",
    "        elif prob >= 0.4:\n",
    "            segments.append('Medium-Risk')\n",
    "        else:\n",
    "            segments.append('Low-Risk')\n",
    "    return segments\n",
    "\n",
    "customer_segments = segment_customers(churn_probabilities)\n",
    "\n",
    "\n",
    "segmentation_df = pd.DataFrame({\n",
    "    'Customer_Index': range(len(y_test)),\n",
    "    'Actual_Churn': y_test,\n",
    "    'Churn_Probability': churn_probabilities,\n",
    "    'Risk_Segment': customer_segments\n",
    "})\n",
    "\n",
    "\n",
    "print(\"=\"*60)\n",
    "print(\"CUSTOMER SEGMENTATION ANALYSIS\")\n",
    "print(\"=\"*60)\n",
    "\n",
    "segment_summary = segmentation_df.groupby('Risk_Segment').agg({\n",
    "    'Customer_Index': 'count',\n",
    "    'Churn_Probability': ['mean', 'std'],\n",
    "    'Actual_Churn': ['sum', 'mean']\n",
    "}).round(3)\n",
    "\n",
    "segment_summary.columns = ['Customer_Count', 'Avg_Churn_Prob', 'Std_Churn_Prob', 'Actual_Churns', 'Actual_Churn_Rate']\n",
    "segment_summary['Segment_Percentage'] = (segment_summary['Customer_Count'] / len(y_test) * 100).round(1)\n",
    "\n",
    "print(segment_summary)\n",
    "\n",
    "\n",
    "print(\"\\n\" + \"=\"*60)\n",
    "print(\"SEGMENT PREDICTION ACCURACY\")\n",
    "print(\"=\"*60)\n",
    "\n",
    "for segment in ['High-Risk', 'Medium-Risk', 'Low-Risk']:\n",
    "    segment_data = segmentation_df[segmentation_df['Risk_Segment'] == segment]\n",
    "    if len(segment_data) > 0:\n",
    "        accuracy = (segment_data['Actual_Churn'].sum() / len(segment_data)) * 100\n",
    "        print(f\"{segment:12}: {len(segment_data):4d} customers | Actual churn rate: {accuracy:.1f}%\")"
   ]
  },
  {
   "cell_type": "code",
   "execution_count": null,
   "id": "7671517f",
   "metadata": {},
   "outputs": [
    {
     "data": {
      "image/png": "[encoded data removed]",
      "text/plain": [
       "<Figure size 1500x1200 with 4 Axes>"
      ]
     },
     "metadata": {},
     "output_type": "display_data"
    },
    {
     "name": "stdout",
     "output_type": "stream",
     "text": [
      "\n",
      "============================================================\n",
      "CUSTOMER SEGMENTATION SUMMARY\n",
      "============================================================\n",
      "High-Risk   :  252 customers (17.9%) | Avg Churn Prob: 0.847\n",
      "Medium-Risk :  249 customers (17.7%) | Avg Churn Prob: 0.555\n",
      "Low-Risk    :  908 customers (64.4%) | Avg Churn Prob: 0.113\n"
     ]
    }
   ],
   "source": [
    "# Visualize customer segments\n",
    "fig, axes = plt.subplots(2, 2, figsize=(15, 12))\n",
    "fig.suptitle('Customer Segmentation Analysis', fontsize=16, fontweight='bold')\n",
    "\n",
    "\n",
    "segment_counts = segmentation_df['Risk_Segment'].value_counts()\n",
    "axes[0, 0].pie(segment_counts.values, labels=segment_counts.index, autopct='%1.1f%%', \n",
    "               colors=['red', 'orange', 'green'])\n",
    "axes[0, 0].set_title('Customer Distribution by Risk Segment')\n",
    "\n",
    "\n",
    "segmentation_df.boxplot(column='Churn_Probability', by='Risk_Segment', ax=axes[0, 1])\n",
    "axes[0, 1].set_title('Churn Probability Distribution by Segment')\n",
    "axes[0, 1].set_xlabel('Risk Segment')\n",
    "axes[0, 1].set_ylabel('Churn Probability')\n",
    "\n",
    "\n",
    "segment_metrics = segmentation_df.groupby('Risk_Segment').agg({\n",
    "    'Actual_Churn': 'mean',\n",
    "    'Churn_Probability': 'mean'\n",
    "}).reset_index()\n",
    "\n",
    "x = range(len(segment_metrics))\n",
    "width = 0.35\n",
    "axes[1, 0].bar([i - width/2 for i in x], segment_metrics['Actual_Churn'], \n",
    "               width, label='Actual Churn Rate', color='lightcoral')\n",
    "axes[1, 0].bar([i + width/2 for i in x], segment_metrics['Churn_Probability'], \n",
    "               width, label='Predicted Churn Probability', color='lightblue')\n",
    "axes[1, 0].set_xlabel('Risk Segment')\n",
    "axes[1, 0].set_ylabel('Rate/Probability')\n",
    "axes[1, 0].set_title('Actual vs Predicted Churn Rates by Segment')\n",
    "axes[1, 0].set_xticks(x)\n",
    "axes[1, 0].set_xticklabels(segment_metrics['Risk_Segment'])\n",
    "axes[1, 0].legend()\n",
    "\n",
    "\n",
    "segment_counts_sorted = segment_counts.reindex(['High-Risk', 'Medium-Risk', 'Low-Risk'])\n",
    "axes[1, 1].bar(segment_counts_sorted.index, segment_counts_sorted.values, \n",
    "               color=['red', 'orange', 'green'], alpha=0.7)\n",
    "axes[1, 1].set_title('Customer Count by Risk Segment')\n",
    "axes[1, 1].set_xlabel('Risk Segment')\n",
    "axes[1, 1].set_ylabel('Number of Customers')\n",
    "\n",
    "\n",
    "for i, v in enumerate(segment_counts_sorted.values):\n",
    "    axes[1, 1].text(i, v + 5, str(v), ha='center', va='bottom', fontweight='bold')\n",
    "\n",
    "plt.tight_layout()\n",
    "plt.show()\n",
    "\n",
    "\n",
    "print(\"\\n\" + \"=\"*60)\n",
    "print(\"CUSTOMER SEGMENTATION SUMMARY\")\n",
    "print(\"=\"*60)\n",
    "total_customers = len(segmentation_df)\n",
    "for segment in ['High-Risk', 'Medium-Risk', 'Low-Risk']:\n",
    "    if segment in segment_counts.index:\n",
    "        count = segment_counts[segment]\n",
    "        percentage = (count / total_customers) * 100\n",
    "        avg_prob = segmentation_df[segmentation_df['Risk_Segment'] == segment]['Churn_Probability'].mean()\n",
    "        print(f\"{segment:12}: {count:4d} customers ({percentage:.1f}%) | Avg Churn Prob: {avg_prob:.3f}\")"
   ]
  },
  {
   "cell_type": "markdown",
   "id": "bcbd5bc4",
   "metadata": {},
   "source": [
    "#### 5.2 Retention Strategy Recommendations\n",
    "\n",
    "Based on our analysis, we'll develop targeted interventions for each risk segment "
   ]
  },
  {
   "cell_type": "code",
   "execution_count": 83,
   "id": "f36869d2",
   "metadata": {},
   "outputs": [
    {
     "name": "stdout",
     "output_type": "stream",
     "text": [
      "================================================================================\n",
      "TARGETED RETENTION STRATEGIES\n",
      "================================================================================\n",
      "\n",
      "HIGH-RISK SEGMENT - Immediate Intervention\n",
      "Priority: Critical\n",
      "Actions:\n",
      "  1. Personal retention specialist contact within 24 hours\n",
      "  2. Offer contract migration (month-to-month to long-term)\n",
      "  3. Provide service bundles (OnlineSecurity + TechSupport)\n",
      "  4. Loyalty discount (10-15% for 12 months)\n",
      "  5. Free service upgrades or premium features\n",
      "------------------------------------------------------------\n",
      "\n",
      "MEDIUM-RISK SEGMENT - Proactive Engagement\n",
      "Priority: High\n",
      "Actions:\n",
      "  1. Targeted email campaigns with service recommendations\n",
      "  2. Offer contract incentives (upgrade to annual plans)\n",
      "  3. Cross-sell complementary services\n",
      "  4. Satisfaction surveys and feedback collection\n",
      "  5. Loyalty program enrollment\n",
      "------------------------------------------------------------\n",
      "\n",
      "LOW-RISK SEGMENT - Upselling & Loyalty\n",
      "Priority: Medium\n",
      "Actions:\n",
      "  1. Upsell premium services and features\n",
      "  2. Loyalty rewards and recognition programs\n",
      "  3. Referral incentives\n",
      "  4. Exclusive offers for long-term customers\n",
      "  5. Regular satisfaction monitoring\n",
      "------------------------------------------------------------\n"
     ]
    }
   ],
   "source": [
    "# Define retention strategies for each segment\n",
    "retention_strategies = {\n",
    "    'High-Risk': {\n",
    "        'strategy': 'Immediate Intervention',\n",
    "        'actions': [\n",
    "            'Personal retention specialist contact within 24 hours',\n",
    "            'Offer contract migration (month-to-month to long-term)',\n",
    "            'Provide service bundles (OnlineSecurity + TechSupport)',\n",
    "            'Loyalty discount (10-15% for 12 months)',\n",
    "            'Free service upgrades or premium features'\n",
    "        ],\n",
    "        \n",
    "        'priority': 'Critical'\n",
    "    },\n",
    "    'Medium-Risk': {\n",
    "        'strategy': 'Proactive Engagement',\n",
    "        'actions': [\n",
    "            'Targeted email campaigns with service recommendations',\n",
    "            'Offer contract incentives (upgrade to annual plans)',\n",
    "            'Cross-sell complementary services',\n",
    "            'Satisfaction surveys and feedback collection',\n",
    "            'Loyalty program enrollment'\n",
    "        ],\n",
    "         \n",
    "        'priority': 'High'\n",
    "    },\n",
    "    'Low-Risk': {\n",
    "        'strategy': 'Upselling & Loyalty',\n",
    "        'actions': [\n",
    "            'Upsell premium services and features',\n",
    "            'Loyalty rewards and recognition programs',\n",
    "            'Referral incentives',\n",
    "            'Exclusive offers for long-term customers',\n",
    "            'Regular satisfaction monitoring'\n",
    "        ],\n",
    "\n",
    "        'priority': 'Medium'\n",
    "    }\n",
    "}\n",
    "\n",
    "\n",
    "print(\"=\"*80)\n",
    "print(\"TARGETED RETENTION STRATEGIES\")\n",
    "print(\"=\"*80)\n",
    "\n",
    "for segment, strategy in retention_strategies.items():\n",
    "    print(f\"\\n{segment.upper()} SEGMENT - {strategy['strategy']}\")\n",
    "    print(f\"Priority: {strategy['priority']}\")\n",
    "    print(\"Actions:\")\n",
    "    for i, action in enumerate(strategy['actions'], 1):\n",
    "        print(f\"  {i}. {action}\")\n",
    "    print(\"-\" * 60)"
   ]
  }
 ],
 "metadata": {
  "kernelspec": {
   "display_name": "Python 3",
   "language": "python",
   "name": "python3"
  },
  "language_info": {
   "codemirror_mode": {
    "name": "ipython",
    "version": 3
   },
   "file_extension": ".py",
   "mimetype": "text/x-python",
   "name": "python",
   "nbconvert_exporter": "python",
   "pygments_lexer": "ipython3",
   "version": "3.11.13"
  }
 },
 "nbformat": 4,
 "nbformat_minor": 5
}
